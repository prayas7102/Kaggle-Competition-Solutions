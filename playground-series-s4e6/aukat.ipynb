{
 "cells": [
  {
   "cell_type": "code",
   "execution_count": 24,
   "metadata": {},
   "outputs": [],
   "source": [
    "# Import necessary libraries\n",
    "# seelctive trf on sin data\n",
    "# outlier removal after power trf\n",
    "import pandas as pd\n",
    "from sklearn.model_selection import train_test_split\n",
    "from sklearn.pipeline import Pipeline\n",
    "from sklearn.compose import ColumnTransformer\n",
    "from sklearn.metrics import accuracy_score\n",
    "from sklearn.feature_selection import SelectKBest, chi2\n",
    "import numpy as np\n",
    "from sklearn.preprocessing import (\n",
    "    PowerTransformer,\n",
    "    StandardScaler,\n",
    "    OneHotEncoder,\n",
    "    OrdinalEncoder,\n",
    ")\n",
    "from sklearn.linear_model import LogisticRegression\n",
    "from sklearn import tree\n",
    "from sklearn.ensemble import (\n",
    "    RandomForestClassifier,\n",
    "    ExtraTreesClassifier,\n",
    "    GradientBoostingClassifier,\n",
    "    HistGradientBoostingClassifier,\n",
    "    AdaBoostClassifier,\n",
    "    StackingClassifier,\n",
    "    VotingClassifier,\n",
    ")\n",
    "from xgboost import XGBClassifier\n",
    "from sklearn.svm import SVC, OneClassSVM\n",
    "from sklearn.neural_network import MLPClassifier\n",
    "\n",
    "# from hmmlearn import hmm\n",
    "from sklearn.model_selection import cross_val_score\n",
    "from sklearn.metrics import classification_report, roc_auc_score\n",
    "from lightgbm import LGBMClassifier\n",
    "import seaborn as sns\n",
    "import matplotlib.pyplot as plt\n",
    "import warnings\n",
    "import pickle\n",
    "\n",
    "warnings.filterwarnings(\"ignore\")"
   ]
  },
  {
   "cell_type": "code",
   "execution_count": 25,
   "metadata": {},
   "outputs": [],
   "source": [
    "voting_clf = VotingClassifier(\n",
    "    estimators=[\n",
    "        (\"ab\", RandomForestClassifier()),\n",
    "        (\"gb\", GradientBoostingClassifier()),\n",
    "        (\"lgbm\", LGBMClassifier(verbose=-1)),\n",
    "    ],\n",
    "    voting=\"hard\",  # 'hard' for majority voting, 'soft' for weighted average probabilities\n",
    ")\n",
    "# RandomForestClassifier(class_weight='balanced', n_estimators=100)\n",
    "model = LGBMClassifier(verbose=-1, n_estimators=100)\n",
    "# model = voting_clf"
   ]
  },
  {
   "cell_type": "code",
   "execution_count": 26,
   "metadata": {},
   "outputs": [],
   "source": [
    "# Load data\n",
    "excel_file_path = \"./train.csv\"\n",
    "df = pd.read_csv(excel_file_path, encoding=\"latin-1\")\n",
    "# df.columns"
   ]
  },
  {
   "cell_type": "code",
   "execution_count": 27,
   "metadata": {},
   "outputs": [],
   "source": [
    "def remove_outliers(df, outlier_dict):\n",
    "    for distribution, category in outlier_dict.items():\n",
    "        if distribution == \"normal\":\n",
    "            for cat in category:\n",
    "                upper_limit = df[cat].mean() + 3 * df[cat].std()\n",
    "                lower_limit = df[cat].mean() - 3 * df[cat].std()\n",
    "                print(cat, upper_limit, lower_limit)\n",
    "                # capping\n",
    "                # df[cat] = np.where(df[cat] > upper_limit,upper_limit,np.where(df[cat] < lower_limit, lower_limit, df[cat]))\n",
    "                # Trimming\n",
    "                df = df[(df[cat] < upper_limit) & (df[cat] > lower_limit)]\n",
    "        elif distribution == \"skew\":\n",
    "            for cat in category:\n",
    "                percentile25 = df[cat].quantile(0.25)\n",
    "                percentile75 = df[cat].quantile(0.75)\n",
    "                iqr = percentile75 - percentile25\n",
    "                upper_limit = percentile75 + 1.5 * iqr\n",
    "                lower_limit = percentile25 - 1.5 * iqr\n",
    "                print(cat, upper_limit, lower_limit)\n",
    "                # capping\n",
    "                df[cat] = np.where(\n",
    "                    df[cat] > upper_limit,\n",
    "                    upper_limit,\n",
    "                    np.where(df[cat] < lower_limit, lower_limit, df[cat]),\n",
    "                )\n",
    "                # Trimming\n",
    "                # df = df[(df[cat] < upper_limit) & (df[cat] > lower_limit)]\n",
    "    return df"
   ]
  },
  {
   "cell_type": "code",
   "execution_count": 28,
   "metadata": {},
   "outputs": [
    {
     "name": "stdout",
     "output_type": "stream",
     "text": [
      "Admission grade 163.05095578745457 87.67698699818317\n",
      "Previous qualification (grade) 164.75596380586725 99.78879802384787\n",
      "Unemployment rate 19.477930009454454 3.558515888898034\n",
      "Inflation rate 5.4271273222582765 -2.9667033732271326\n",
      "GDP 6.66926778412277 -6.830720871405617\n"
     ]
    }
   ],
   "source": [
    "# how to know no. of bins\n",
    "\n",
    "from scipy import stats\n",
    "from sklearn.mixture import GaussianMixture\n",
    "from sklearn.preprocessing import KBinsDiscretizer\n",
    "\n",
    "\n",
    "df = df.drop_duplicates()\n",
    "outlier_dict = {\n",
    "    \"normal\": [\n",
    "        \"Admission grade\",\n",
    "        \"Previous qualification (grade)\",\n",
    "        \"Unemployment rate\",\n",
    "        \"Inflation rate\",\n",
    "        \"GDP\",\n",
    "    ],\n",
    "    \"skew\": [\n",
    "        # \"Curricular units 1st sem (evaluations)\",\n",
    "        # \"Curricular units 2nd sem (evaluations)\",\n",
    "        # \"Curricular units 1st sem (approved)\",\n",
    "        # \"Curricular units 2nd sem (approved)\",\n",
    "        # \"Age at enrollment\"\n",
    "    ],\n",
    "}\n",
    "\n",
    "def pre_process(df):\n",
    "    # Binning 'Age at enrollment'\n",
    "    # df['Age at enrollment'] = KBinsDiscretizer(n_bins=7, encode='ordinal', strategy='quantile').fit_transform(df[['Age at enrollment']])\n",
    "    # df['Application mode'] = KBinsDiscretizer(n_bins=7, encode='ordinal', strategy='kmeans').fit_transform(df[['Application mode']])\n",
    "    # df['GDP'] = KBinsDiscretizer(n_bins=10, encode='ordinal', strategy='quantile').fit_transform(df[['GDP']])\n",
    "    return df\n",
    "\n",
    "\n",
    "df = pre_process(df)\n",
    "df = remove_outliers(df, outlier_dict)"
   ]
  },
  {
   "cell_type": "code",
   "execution_count": 29,
   "metadata": {},
   "outputs": [],
   "source": [
    "df.to_csv('df.csv', index=False)"
   ]
  },
  {
   "cell_type": "code",
   "execution_count": 30,
   "metadata": {},
   "outputs": [],
   "source": [
    "from imblearn.over_sampling import SMOTE\n",
    "\n",
    "\n",
    "# Define features and target\n",
    "def get_X_Y(df):\n",
    "    X = df.drop(\n",
    "        columns=[\"id\", \"Target\", \"Educational special needs\", \"International\", 'Nacionality']\n",
    "    )\n",
    "    Y = df[\"Target\"]\n",
    "    return X, Y\n",
    "\n",
    "\n",
    "X, Y = get_X_Y(df)"
   ]
  },
  {
   "cell_type": "code",
   "execution_count": 31,
   "metadata": {},
   "outputs": [
    {
     "name": "stdout",
     "output_type": "stream",
     "text": [
      "(75811, 33)\n"
     ]
    }
   ],
   "source": [
    "# Split data into train and test sets\n",
    "X_train, X_test, Y_train, Y_test = train_test_split(\n",
    "    X, Y, test_size=0.20, random_state=5\n",
    ")\n",
    "# Check columns\n",
    "X_train, X_test = X, X\n",
    "Y_train, Y_test = Y, Y\n",
    "print(X_train.shape)"
   ]
  },
  {
   "cell_type": "code",
   "execution_count": 32,
   "metadata": {},
   "outputs": [],
   "source": [
    "# Get the list of categorical column names\n",
    "numerical_features = X_train.columns\n",
    "categorical_feat_ord = [\n",
    "    \"Scholarship holder\",\n",
    "    \"Daytime/evening attendance\",\n",
    "    \"Previous qualification\",\n",
    "    \"Displaced\",\n",
    "    \"Debtor\",\n",
    "    \"Age at enrollment\",\n",
    "    \"Tuition fees up to date\",\n",
    "]\n",
    "categorical_feat_nom = [\n",
    "    \"Gender\",\n",
    "    \"Marital status\",\n",
    "    \"Application mode\",\n",
    "    \"Application order\",\n",
    "    \"Course\",\n",
    "    # \"Nacionality\",\n",
    "    \"Mother's qualification\",\n",
    "    \"Father's qualification\",\n",
    "    \"Mother's occupation\",\n",
    "    \"Father's occupation\"\n",
    "]\n",
    "cat = categorical_feat_ord+categorical_feat_nom\n",
    "numerical_features = [item for item in numerical_features if item not in cat]"
   ]
  },
  {
   "cell_type": "code",
   "execution_count": 33,
   "metadata": {},
   "outputs": [],
   "source": [
    "# Separate transformers for categorical and numerical features\n",
    "\n",
    "from sklearn.pipeline import FunctionTransformer\n",
    "from sklearn.preprocessing import MinMaxScaler\n",
    "from sklearn.decomposition import PCA\n",
    "\n",
    "trf = PowerTransformer()\n",
    "# trf = FunctionTransformer(np.sin)\n",
    "\n",
    "numerical_transformer = Pipeline(\n",
    "    steps=[\n",
    "        (\"log\", trf),\n",
    "        (\"scaler\", StandardScaler()),  # StandardScaler MinMaxScaler\n",
    "    ]\n",
    ")\n",
    "categorical_transformer_onehot = Pipeline(\n",
    "    steps=[(\"onehot\", OneHotEncoder(handle_unknown=\"ignore\")),]\n",
    ")\n",
    "categorical_transformer_ordinal = Pipeline(\n",
    "    steps=[(\"ord\", OrdinalEncoder(handle_unknown='use_encoded_value',unknown_value=-1)),]\n",
    ")"
   ]
  },
  {
   "cell_type": "code",
   "execution_count": 34,
   "metadata": {},
   "outputs": [
    {
     "data": {
      "text/html": [
       "<style>#sk-container-id-2 {color: black;}#sk-container-id-2 pre{padding: 0;}#sk-container-id-2 div.sk-toggleable {background-color: white;}#sk-container-id-2 label.sk-toggleable__label {cursor: pointer;display: block;width: 100%;margin-bottom: 0;padding: 0.3em;box-sizing: border-box;text-align: center;}#sk-container-id-2 label.sk-toggleable__label-arrow:before {content: \"▸\";float: left;margin-right: 0.25em;color: #696969;}#sk-container-id-2 label.sk-toggleable__label-arrow:hover:before {color: black;}#sk-container-id-2 div.sk-estimator:hover label.sk-toggleable__label-arrow:before {color: black;}#sk-container-id-2 div.sk-toggleable__content {max-height: 0;max-width: 0;overflow: hidden;text-align: left;background-color: #f0f8ff;}#sk-container-id-2 div.sk-toggleable__content pre {margin: 0.2em;color: black;border-radius: 0.25em;background-color: #f0f8ff;}#sk-container-id-2 input.sk-toggleable__control:checked~div.sk-toggleable__content {max-height: 200px;max-width: 100%;overflow: auto;}#sk-container-id-2 input.sk-toggleable__control:checked~label.sk-toggleable__label-arrow:before {content: \"▾\";}#sk-container-id-2 div.sk-estimator input.sk-toggleable__control:checked~label.sk-toggleable__label {background-color: #d4ebff;}#sk-container-id-2 div.sk-label input.sk-toggleable__control:checked~label.sk-toggleable__label {background-color: #d4ebff;}#sk-container-id-2 input.sk-hidden--visually {border: 0;clip: rect(1px 1px 1px 1px);clip: rect(1px, 1px, 1px, 1px);height: 1px;margin: -1px;overflow: hidden;padding: 0;position: absolute;width: 1px;}#sk-container-id-2 div.sk-estimator {font-family: monospace;background-color: #f0f8ff;border: 1px dotted black;border-radius: 0.25em;box-sizing: border-box;margin-bottom: 0.5em;}#sk-container-id-2 div.sk-estimator:hover {background-color: #d4ebff;}#sk-container-id-2 div.sk-parallel-item::after {content: \"\";width: 100%;border-bottom: 1px solid gray;flex-grow: 1;}#sk-container-id-2 div.sk-label:hover label.sk-toggleable__label {background-color: #d4ebff;}#sk-container-id-2 div.sk-serial::before {content: \"\";position: absolute;border-left: 1px solid gray;box-sizing: border-box;top: 0;bottom: 0;left: 50%;z-index: 0;}#sk-container-id-2 div.sk-serial {display: flex;flex-direction: column;align-items: center;background-color: white;padding-right: 0.2em;padding-left: 0.2em;position: relative;}#sk-container-id-2 div.sk-item {position: relative;z-index: 1;}#sk-container-id-2 div.sk-parallel {display: flex;align-items: stretch;justify-content: center;background-color: white;position: relative;}#sk-container-id-2 div.sk-item::before, #sk-container-id-2 div.sk-parallel-item::before {content: \"\";position: absolute;border-left: 1px solid gray;box-sizing: border-box;top: 0;bottom: 0;left: 50%;z-index: -1;}#sk-container-id-2 div.sk-parallel-item {display: flex;flex-direction: column;z-index: 1;position: relative;background-color: white;}#sk-container-id-2 div.sk-parallel-item:first-child::after {align-self: flex-end;width: 50%;}#sk-container-id-2 div.sk-parallel-item:last-child::after {align-self: flex-start;width: 50%;}#sk-container-id-2 div.sk-parallel-item:only-child::after {width: 0;}#sk-container-id-2 div.sk-dashed-wrapped {border: 1px dashed gray;margin: 0 0.4em 0.5em 0.4em;box-sizing: border-box;padding-bottom: 0.4em;background-color: white;}#sk-container-id-2 div.sk-label label {font-family: monospace;font-weight: bold;display: inline-block;line-height: 1.2em;}#sk-container-id-2 div.sk-label-container {text-align: center;}#sk-container-id-2 div.sk-container {/* jupyter's `normalize.less` sets `[hidden] { display: none; }` but bootstrap.min.css set `[hidden] { display: none !important; }` so we also need the `!important` here to be able to override the default hidden behavior on the sphinx rendered scikit-learn.org. See: https://github.com/scikit-learn/scikit-learn/issues/21755 */display: inline-block !important;position: relative;}#sk-container-id-2 div.sk-text-repr-fallback {display: none;}</style><div id=\"sk-container-id-2\" class=\"sk-top-container\"><div class=\"sk-text-repr-fallback\"><pre>Pipeline(steps=[(&#x27;preprocessor&#x27;,\n",
       "                 ColumnTransformer(transformers=[(&#x27;cat&#x27;,\n",
       "                                                  Pipeline(steps=[(&#x27;onehot&#x27;,\n",
       "                                                                   OneHotEncoder(handle_unknown=&#x27;ignore&#x27;))]),\n",
       "                                                  [&#x27;Gender&#x27;, &#x27;Marital status&#x27;,\n",
       "                                                   &#x27;Application mode&#x27;,\n",
       "                                                   &#x27;Application order&#x27;,\n",
       "                                                   &#x27;Course&#x27;,\n",
       "                                                   &quot;Mother&#x27;s qualification&quot;,\n",
       "                                                   &quot;Father&#x27;s qualification&quot;,\n",
       "                                                   &quot;Mother&#x27;s occupation&quot;,\n",
       "                                                   &quot;Father&#x27;s occupation&quot;]),\n",
       "                                                 (&#x27;cat_1&#x27;,\n",
       "                                                  Pipeline(steps=[(&#x27;ord&#x27;,\n",
       "                                                                   OrdinalEncoder(...\n",
       "                                                   &#x27;Curricular units 1st sem &#x27;\n",
       "                                                   &#x27;(without evaluations)&#x27;,\n",
       "                                                   &#x27;Curricular units 2nd sem &#x27;\n",
       "                                                   &#x27;(credited)&#x27;,\n",
       "                                                   &#x27;Curricular units 2nd sem &#x27;\n",
       "                                                   &#x27;(enrolled)&#x27;,\n",
       "                                                   &#x27;Curricular units 2nd sem &#x27;\n",
       "                                                   &#x27;(evaluations)&#x27;,\n",
       "                                                   &#x27;Curricular units 2nd sem &#x27;\n",
       "                                                   &#x27;(approved)&#x27;,\n",
       "                                                   &#x27;Curricular units 2nd sem &#x27;\n",
       "                                                   &#x27;(grade)&#x27;,\n",
       "                                                   &#x27;Curricular units 2nd sem &#x27;\n",
       "                                                   &#x27;(without evaluations)&#x27;,\n",
       "                                                   &#x27;Unemployment rate&#x27;,\n",
       "                                                   &#x27;Inflation rate&#x27;,\n",
       "                                                   &#x27;GDP&#x27;])])),\n",
       "                (&#x27;model&#x27;, LGBMClassifier(verbose=-1))])</pre><b>In a Jupyter environment, please rerun this cell to show the HTML representation or trust the notebook. <br />On GitHub, the HTML representation is unable to render, please try loading this page with nbviewer.org.</b></div><div class=\"sk-container\" hidden><div class=\"sk-item sk-dashed-wrapped\"><div class=\"sk-label-container\"><div class=\"sk-label sk-toggleable\"><input class=\"sk-toggleable__control sk-hidden--visually\" id=\"sk-estimator-id-11\" type=\"checkbox\" ><label for=\"sk-estimator-id-11\" class=\"sk-toggleable__label sk-toggleable__label-arrow\">Pipeline</label><div class=\"sk-toggleable__content\"><pre>Pipeline(steps=[(&#x27;preprocessor&#x27;,\n",
       "                 ColumnTransformer(transformers=[(&#x27;cat&#x27;,\n",
       "                                                  Pipeline(steps=[(&#x27;onehot&#x27;,\n",
       "                                                                   OneHotEncoder(handle_unknown=&#x27;ignore&#x27;))]),\n",
       "                                                  [&#x27;Gender&#x27;, &#x27;Marital status&#x27;,\n",
       "                                                   &#x27;Application mode&#x27;,\n",
       "                                                   &#x27;Application order&#x27;,\n",
       "                                                   &#x27;Course&#x27;,\n",
       "                                                   &quot;Mother&#x27;s qualification&quot;,\n",
       "                                                   &quot;Father&#x27;s qualification&quot;,\n",
       "                                                   &quot;Mother&#x27;s occupation&quot;,\n",
       "                                                   &quot;Father&#x27;s occupation&quot;]),\n",
       "                                                 (&#x27;cat_1&#x27;,\n",
       "                                                  Pipeline(steps=[(&#x27;ord&#x27;,\n",
       "                                                                   OrdinalEncoder(...\n",
       "                                                   &#x27;Curricular units 1st sem &#x27;\n",
       "                                                   &#x27;(without evaluations)&#x27;,\n",
       "                                                   &#x27;Curricular units 2nd sem &#x27;\n",
       "                                                   &#x27;(credited)&#x27;,\n",
       "                                                   &#x27;Curricular units 2nd sem &#x27;\n",
       "                                                   &#x27;(enrolled)&#x27;,\n",
       "                                                   &#x27;Curricular units 2nd sem &#x27;\n",
       "                                                   &#x27;(evaluations)&#x27;,\n",
       "                                                   &#x27;Curricular units 2nd sem &#x27;\n",
       "                                                   &#x27;(approved)&#x27;,\n",
       "                                                   &#x27;Curricular units 2nd sem &#x27;\n",
       "                                                   &#x27;(grade)&#x27;,\n",
       "                                                   &#x27;Curricular units 2nd sem &#x27;\n",
       "                                                   &#x27;(without evaluations)&#x27;,\n",
       "                                                   &#x27;Unemployment rate&#x27;,\n",
       "                                                   &#x27;Inflation rate&#x27;,\n",
       "                                                   &#x27;GDP&#x27;])])),\n",
       "                (&#x27;model&#x27;, LGBMClassifier(verbose=-1))])</pre></div></div></div><div class=\"sk-serial\"><div class=\"sk-item sk-dashed-wrapped\"><div class=\"sk-label-container\"><div class=\"sk-label sk-toggleable\"><input class=\"sk-toggleable__control sk-hidden--visually\" id=\"sk-estimator-id-12\" type=\"checkbox\" ><label for=\"sk-estimator-id-12\" class=\"sk-toggleable__label sk-toggleable__label-arrow\">preprocessor: ColumnTransformer</label><div class=\"sk-toggleable__content\"><pre>ColumnTransformer(transformers=[(&#x27;cat&#x27;,\n",
       "                                 Pipeline(steps=[(&#x27;onehot&#x27;,\n",
       "                                                  OneHotEncoder(handle_unknown=&#x27;ignore&#x27;))]),\n",
       "                                 [&#x27;Gender&#x27;, &#x27;Marital status&#x27;,\n",
       "                                  &#x27;Application mode&#x27;, &#x27;Application order&#x27;,\n",
       "                                  &#x27;Course&#x27;, &quot;Mother&#x27;s qualification&quot;,\n",
       "                                  &quot;Father&#x27;s qualification&quot;,\n",
       "                                  &quot;Mother&#x27;s occupation&quot;,\n",
       "                                  &quot;Father&#x27;s occupation&quot;]),\n",
       "                                (&#x27;cat_1&#x27;,\n",
       "                                 Pipeline(steps=[(&#x27;ord&#x27;,\n",
       "                                                  OrdinalEncoder(handle_unknown=&#x27;use_encoded_valu...\n",
       "                                  &#x27;Curricular units 1st sem (approved)&#x27;,\n",
       "                                  &#x27;Curricular units 1st sem (grade)&#x27;,\n",
       "                                  &#x27;Curricular units 1st sem (without &#x27;\n",
       "                                  &#x27;evaluations)&#x27;,\n",
       "                                  &#x27;Curricular units 2nd sem (credited)&#x27;,\n",
       "                                  &#x27;Curricular units 2nd sem (enrolled)&#x27;,\n",
       "                                  &#x27;Curricular units 2nd sem (evaluations)&#x27;,\n",
       "                                  &#x27;Curricular units 2nd sem (approved)&#x27;,\n",
       "                                  &#x27;Curricular units 2nd sem (grade)&#x27;,\n",
       "                                  &#x27;Curricular units 2nd sem (without &#x27;\n",
       "                                  &#x27;evaluations)&#x27;,\n",
       "                                  &#x27;Unemployment rate&#x27;, &#x27;Inflation rate&#x27;,\n",
       "                                  &#x27;GDP&#x27;])])</pre></div></div></div><div class=\"sk-parallel\"><div class=\"sk-parallel-item\"><div class=\"sk-item\"><div class=\"sk-label-container\"><div class=\"sk-label sk-toggleable\"><input class=\"sk-toggleable__control sk-hidden--visually\" id=\"sk-estimator-id-13\" type=\"checkbox\" ><label for=\"sk-estimator-id-13\" class=\"sk-toggleable__label sk-toggleable__label-arrow\">cat</label><div class=\"sk-toggleable__content\"><pre>[&#x27;Gender&#x27;, &#x27;Marital status&#x27;, &#x27;Application mode&#x27;, &#x27;Application order&#x27;, &#x27;Course&#x27;, &quot;Mother&#x27;s qualification&quot;, &quot;Father&#x27;s qualification&quot;, &quot;Mother&#x27;s occupation&quot;, &quot;Father&#x27;s occupation&quot;]</pre></div></div></div><div class=\"sk-serial\"><div class=\"sk-item\"><div class=\"sk-serial\"><div class=\"sk-item\"><div class=\"sk-estimator sk-toggleable\"><input class=\"sk-toggleable__control sk-hidden--visually\" id=\"sk-estimator-id-14\" type=\"checkbox\" ><label for=\"sk-estimator-id-14\" class=\"sk-toggleable__label sk-toggleable__label-arrow\">OneHotEncoder</label><div class=\"sk-toggleable__content\"><pre>OneHotEncoder(handle_unknown=&#x27;ignore&#x27;)</pre></div></div></div></div></div></div></div></div><div class=\"sk-parallel-item\"><div class=\"sk-item\"><div class=\"sk-label-container\"><div class=\"sk-label sk-toggleable\"><input class=\"sk-toggleable__control sk-hidden--visually\" id=\"sk-estimator-id-15\" type=\"checkbox\" ><label for=\"sk-estimator-id-15\" class=\"sk-toggleable__label sk-toggleable__label-arrow\">cat_1</label><div class=\"sk-toggleable__content\"><pre>[&#x27;Scholarship holder&#x27;, &#x27;Daytime/evening attendance&#x27;, &#x27;Previous qualification&#x27;, &#x27;Displaced&#x27;, &#x27;Debtor&#x27;, &#x27;Age at enrollment&#x27;, &#x27;Tuition fees up to date&#x27;]</pre></div></div></div><div class=\"sk-serial\"><div class=\"sk-item\"><div class=\"sk-serial\"><div class=\"sk-item\"><div class=\"sk-estimator sk-toggleable\"><input class=\"sk-toggleable__control sk-hidden--visually\" id=\"sk-estimator-id-16\" type=\"checkbox\" ><label for=\"sk-estimator-id-16\" class=\"sk-toggleable__label sk-toggleable__label-arrow\">OrdinalEncoder</label><div class=\"sk-toggleable__content\"><pre>OrdinalEncoder(handle_unknown=&#x27;use_encoded_value&#x27;, unknown_value=-1)</pre></div></div></div></div></div></div></div></div><div class=\"sk-parallel-item\"><div class=\"sk-item\"><div class=\"sk-label-container\"><div class=\"sk-label sk-toggleable\"><input class=\"sk-toggleable__control sk-hidden--visually\" id=\"sk-estimator-id-17\" type=\"checkbox\" ><label for=\"sk-estimator-id-17\" class=\"sk-toggleable__label sk-toggleable__label-arrow\">num</label><div class=\"sk-toggleable__content\"><pre>[&#x27;Previous qualification (grade)&#x27;, &#x27;Admission grade&#x27;, &#x27;Curricular units 1st sem (credited)&#x27;, &#x27;Curricular units 1st sem (enrolled)&#x27;, &#x27;Curricular units 1st sem (evaluations)&#x27;, &#x27;Curricular units 1st sem (approved)&#x27;, &#x27;Curricular units 1st sem (grade)&#x27;, &#x27;Curricular units 1st sem (without evaluations)&#x27;, &#x27;Curricular units 2nd sem (credited)&#x27;, &#x27;Curricular units 2nd sem (enrolled)&#x27;, &#x27;Curricular units 2nd sem (evaluations)&#x27;, &#x27;Curricular units 2nd sem (approved)&#x27;, &#x27;Curricular units 2nd sem (grade)&#x27;, &#x27;Curricular units 2nd sem (without evaluations)&#x27;, &#x27;Unemployment rate&#x27;, &#x27;Inflation rate&#x27;, &#x27;GDP&#x27;]</pre></div></div></div><div class=\"sk-serial\"><div class=\"sk-item\"><div class=\"sk-serial\"><div class=\"sk-item\"><div class=\"sk-estimator sk-toggleable\"><input class=\"sk-toggleable__control sk-hidden--visually\" id=\"sk-estimator-id-18\" type=\"checkbox\" ><label for=\"sk-estimator-id-18\" class=\"sk-toggleable__label sk-toggleable__label-arrow\">PowerTransformer</label><div class=\"sk-toggleable__content\"><pre>PowerTransformer()</pre></div></div></div><div class=\"sk-item\"><div class=\"sk-estimator sk-toggleable\"><input class=\"sk-toggleable__control sk-hidden--visually\" id=\"sk-estimator-id-19\" type=\"checkbox\" ><label for=\"sk-estimator-id-19\" class=\"sk-toggleable__label sk-toggleable__label-arrow\">StandardScaler</label><div class=\"sk-toggleable__content\"><pre>StandardScaler()</pre></div></div></div></div></div></div></div></div></div></div><div class=\"sk-item\"><div class=\"sk-estimator sk-toggleable\"><input class=\"sk-toggleable__control sk-hidden--visually\" id=\"sk-estimator-id-20\" type=\"checkbox\" ><label for=\"sk-estimator-id-20\" class=\"sk-toggleable__label sk-toggleable__label-arrow\">LGBMClassifier</label><div class=\"sk-toggleable__content\"><pre>LGBMClassifier(verbose=-1)</pre></div></div></div></div></div></div></div>"
      ],
      "text/plain": [
       "Pipeline(steps=[('preprocessor',\n",
       "                 ColumnTransformer(transformers=[('cat',\n",
       "                                                  Pipeline(steps=[('onehot',\n",
       "                                                                   OneHotEncoder(handle_unknown='ignore'))]),\n",
       "                                                  ['Gender', 'Marital status',\n",
       "                                                   'Application mode',\n",
       "                                                   'Application order',\n",
       "                                                   'Course',\n",
       "                                                   \"Mother's qualification\",\n",
       "                                                   \"Father's qualification\",\n",
       "                                                   \"Mother's occupation\",\n",
       "                                                   \"Father's occupation\"]),\n",
       "                                                 ('cat_1',\n",
       "                                                  Pipeline(steps=[('ord',\n",
       "                                                                   OrdinalEncoder(...\n",
       "                                                   'Curricular units 1st sem '\n",
       "                                                   '(without evaluations)',\n",
       "                                                   'Curricular units 2nd sem '\n",
       "                                                   '(credited)',\n",
       "                                                   'Curricular units 2nd sem '\n",
       "                                                   '(enrolled)',\n",
       "                                                   'Curricular units 2nd sem '\n",
       "                                                   '(evaluations)',\n",
       "                                                   'Curricular units 2nd sem '\n",
       "                                                   '(approved)',\n",
       "                                                   'Curricular units 2nd sem '\n",
       "                                                   '(grade)',\n",
       "                                                   'Curricular units 2nd sem '\n",
       "                                                   '(without evaluations)',\n",
       "                                                   'Unemployment rate',\n",
       "                                                   'Inflation rate',\n",
       "                                                   'GDP'])])),\n",
       "                ('model', LGBMClassifier(verbose=-1))])"
      ]
     },
     "execution_count": 34,
     "metadata": {},
     "output_type": "execute_result"
    }
   ],
   "source": [
    "from sklearn.model_selection import GridSearchCV\n",
    "\n",
    "\n",
    "preprocessor = ColumnTransformer(\n",
    "    transformers=[\n",
    "        (\"cat\", categorical_transformer_onehot, categorical_feat_nom),\n",
    "        (\"cat_1\", categorical_transformer_ordinal, categorical_feat_ord),\n",
    "        (\"num\", numerical_transformer, numerical_features)\n",
    "    ]\n",
    ")\n",
    "# Define the pipeline\n",
    "pipeline = Pipeline([(\"preprocessor\", preprocessor), (\"model\", model)])\n",
    "\n",
    "# Fit the pipeline on the training data\n",
    "pipeline.fit(X_train, Y_train)"
   ]
  },
  {
   "cell_type": "code",
   "execution_count": 35,
   "metadata": {},
   "outputs": [
    {
     "name": "stdout",
     "output_type": "stream",
     "text": [
      "Model saved as model.pkl\n"
     ]
    }
   ],
   "source": [
    "# Save the fitted pipeline as a .pkl file\n",
    "filename_pkl = \"model.pkl\"\n",
    "pickle.dump(pipeline, open(filename_pkl, \"wb\"))\n",
    "print(f\"Model saved as {filename_pkl}\")"
   ]
  },
  {
   "cell_type": "code",
   "execution_count": 36,
   "metadata": {},
   "outputs": [
    {
     "name": "stdout",
     "output_type": "stream",
     "text": [
      "Accuracy: 0.8480035878698342\n"
     ]
    }
   ],
   "source": [
    "# Evaluate the model\n",
    "y_pred = pipeline.predict(X_test)\n",
    "accuracy = accuracy_score(Y_test, y_pred)\n",
    "print(f\"Accuracy: {accuracy}\")"
   ]
  },
  {
   "cell_type": "code",
   "execution_count": 37,
   "metadata": {},
   "outputs": [
    {
     "name": "stdout",
     "output_type": "stream",
     "text": [
      "              precision    recall  f1-score   support\n",
      "\n",
      "     Dropout       0.92      0.84      0.88     25040\n",
      "    Enrolled       0.69      0.66      0.67     14871\n",
      "    Graduate       0.86      0.93      0.90     35900\n",
      "\n",
      "    accuracy                           0.85     75811\n",
      "   macro avg       0.82      0.81      0.82     75811\n",
      "weighted avg       0.85      0.85      0.85     75811\n",
      "\n"
     ]
    }
   ],
   "source": [
    "print(classification_report(Y_test, y_pred))"
   ]
  },
  {
   "cell_type": "code",
   "execution_count": 38,
   "metadata": {},
   "outputs": [
    {
     "data": {
      "text/plain": [
       "0.8313305439005564"
      ]
     },
     "execution_count": 38,
     "metadata": {},
     "output_type": "execute_result"
    }
   ],
   "source": [
    "cross_val_score(pipeline, X_test, Y_test, cv=3, scoring=\"accuracy\").mean()"
   ]
  },
  {
   "cell_type": "code",
   "execution_count": 39,
   "metadata": {},
   "outputs": [
    {
     "name": "stdout",
     "output_type": "stream",
     "text": [
      "Submission file saved as 'submission.csv'\n"
     ]
    }
   ],
   "source": [
    "import pandas as pd\n",
    "import numpy as np\n",
    "import pickle\n",
    "\n",
    "# Load the trained model\n",
    "loaded_model = pickle.load(open(\"model.pkl\", \"rb\"))\n",
    "\n",
    "# Define the columns expected by the model\n",
    "column_names = X_train.columns\n",
    "\n",
    "def generate_submission(test_file):\n",
    "    # Read the CSV file into a DataFrame\n",
    "    df = pd.read_csv(test_file)\n",
    "    df = pd.DataFrame(df)\n",
    "    # Replace empty strings with NaN\n",
    "    df.replace(\"\", np.nan, inplace=True)\n",
    "    df = pre_process(df)\n",
    "    # Select the relevant columns\n",
    "    filtered_df = df[column_names]\n",
    "    predictions = pipeline.predict(filtered_df)\n",
    "    # Load the original test file to keep the PassengerId column\n",
    "    original_df = pd.read_csv(test_file)\n",
    "    original_df[\"Target\"] = predictions\n",
    "    # Save the results to a new CSV file\n",
    "    submission_df = original_df[[\"id\", \"Target\"]]\n",
    "    submission_df.to_csv(\"submission.csv\", index=False)\n",
    "    print(\"Submission file saved as 'submission.csv'\")\n",
    "\n",
    "\n",
    "# Generate the submission\n",
    "test_file = \"test.csv\"\n",
    "generate_submission(test_file)"
   ]
  }
 ],
 "metadata": {
  "kernelspec": {
   "display_name": "Python 3",
   "language": "python",
   "name": "python3"
  },
  "language_info": {
   "codemirror_mode": {
    "name": "ipython",
    "version": 3
   },
   "file_extension": ".py",
   "mimetype": "text/x-python",
   "name": "python",
   "nbconvert_exporter": "python",
   "pygments_lexer": "ipython3",
   "version": "3.11.4"
  }
 },
 "nbformat": 4,
 "nbformat_minor": 2
}
