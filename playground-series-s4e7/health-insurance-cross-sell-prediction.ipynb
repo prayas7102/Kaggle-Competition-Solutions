{
 "cells": [
  {
   "cell_type": "markdown",
   "id": "43c4a312",
   "metadata": {
    "papermill": {
     "duration": 0.012187,
     "end_time": "2024-01-06T12:57:09.780806",
     "exception": false,
     "start_time": "2024-01-06T12:57:09.768619",
     "status": "completed"
    },
    "tags": []
   },
   "source": [
    "# **1. Understanding the Problem and Objective:**\n",
    "Before diving into the data, we need understand the problem we are trying to solve and the goals of our analysis. This helps in directing our exploration and identifying relevant patterns.For this Health Insurance data,this dataset is about an Insurance company that has provided Health Insurance to its customers. Now we need build a model to predict whether the policyholders (customers) from past year will also be interested in Vehicle Insurance provided by the company."
   ]
  },
  {
   "cell_type": "markdown",
   "id": "bba1b3af",
   "metadata": {
    "papermill": {
     "duration": 0.012855,
     "end_time": "2024-01-06T12:57:09.805692",
     "exception": false,
     "start_time": "2024-01-06T12:57:09.792837",
     "status": "completed"
    },
    "tags": []
   },
   "source": [
    "# **2. Importing libraries and Loading the Dataset:**"
   ]
  },
  {
   "cell_type": "code",
   "execution_count": 1,
   "id": "2de44070",
   "metadata": {
    "execution": {
     "iopub.execute_input": "2024-01-06T12:57:09.830646Z",
     "iopub.status.busy": "2024-01-06T12:57:09.830104Z",
     "iopub.status.idle": "2024-01-06T12:57:11.521871Z",
     "shell.execute_reply": "2024-01-06T12:57:11.520671Z"
    },
    "papermill": {
     "duration": 1.706988,
     "end_time": "2024-01-06T12:57:11.524253",
     "exception": false,
     "start_time": "2024-01-06T12:57:09.817265",
     "status": "completed"
    },
    "tags": []
   },
   "outputs": [],
   "source": [
    "import numpy as np\n",
    "import pandas as pd\n",
    "import seaborn as sns\n",
    "import matplotlib.pyplot as plt\n",
    "import sklearn\n",
    "import os"
   ]
  },
  {
   "cell_type": "code",
   "execution_count": 2,
   "id": "486fc5a0",
   "metadata": {
    "execution": {
     "iopub.execute_input": "2024-01-06T12:57:11.550083Z",
     "iopub.status.busy": "2024-01-06T12:57:11.549213Z",
     "iopub.status.idle": "2024-01-06T12:57:12.448527Z",
     "shell.execute_reply": "2024-01-06T12:57:12.447278Z"
    },
    "executionInfo": {
     "elapsed": 1000,
     "status": "ok",
     "timestamp": 1703239277120,
     "user": {
      "displayName": "Rohit Kumar Shaw",
      "userId": "08344271847417693490"
     },
     "user_tz": -330
    },
    "id": "tLe4QS5zqI57",
    "papermill": {
     "duration": 0.915268,
     "end_time": "2024-01-06T12:57:12.451699",
     "exception": false,
     "start_time": "2024-01-06T12:57:11.536431",
     "status": "completed"
    },
    "tags": []
   },
   "outputs": [],
   "source": [
    "df_test = pd.read_csv('./test.csv')\n",
    "df = pd.read_csv('./train.csv')"
   ]
  },
  {
   "cell_type": "markdown",
   "id": "e0325b46",
   "metadata": {
    "papermill": {
     "duration": 0.012431,
     "end_time": "2024-01-06T12:57:12.479692",
     "exception": false,
     "start_time": "2024-01-06T12:57:12.467261",
     "status": "completed"
    },
    "tags": []
   },
   "source": [
    "# **3. Checking the Structure of the Dataset:**"
   ]
  },
  {
   "cell_type": "code",
   "execution_count": 3,
   "id": "b464cd1e",
   "metadata": {
    "execution": {
     "iopub.execute_input": "2024-01-06T12:57:12.505108Z",
     "iopub.status.busy": "2024-01-06T12:57:12.504737Z",
     "iopub.status.idle": "2024-01-06T12:57:12.535278Z",
     "shell.execute_reply": "2024-01-06T12:57:12.534299Z"
    },
    "executionInfo": {
     "elapsed": 12,
     "status": "ok",
     "timestamp": 1703159576169,
     "user": {
      "displayName": "Rohit Kumar Shaw",
      "userId": "08344271847417693490"
     },
     "user_tz": -330
    },
    "id": "gKVvHJYiq-i5",
    "outputId": "3add6aa7-6e99-4b3a-ad6f-3e5340d3e89e",
    "papermill": {
     "duration": 0.046577,
     "end_time": "2024-01-06T12:57:12.538182",
     "exception": false,
     "start_time": "2024-01-06T12:57:12.491605",
     "status": "completed"
    },
    "tags": []
   },
   "outputs": [
    {
     "data": {
      "text/html": [
       "<div>\n",
       "<style scoped>\n",
       "    .dataframe tbody tr th:only-of-type {\n",
       "        vertical-align: middle;\n",
       "    }\n",
       "\n",
       "    .dataframe tbody tr th {\n",
       "        vertical-align: top;\n",
       "    }\n",
       "\n",
       "    .dataframe thead th {\n",
       "        text-align: right;\n",
       "    }\n",
       "</style>\n",
       "<table border=\"1\" class=\"dataframe\">\n",
       "  <thead>\n",
       "    <tr style=\"text-align: right;\">\n",
       "      <th></th>\n",
       "      <th>id</th>\n",
       "      <th>Gender</th>\n",
       "      <th>Age</th>\n",
       "      <th>Driving_License</th>\n",
       "      <th>Region_Code</th>\n",
       "      <th>Previously_Insured</th>\n",
       "      <th>Vehicle_Age</th>\n",
       "      <th>Vehicle_Damage</th>\n",
       "      <th>Annual_Premium</th>\n",
       "      <th>Policy_Sales_Channel</th>\n",
       "      <th>Vintage</th>\n",
       "      <th>Response</th>\n",
       "    </tr>\n",
       "  </thead>\n",
       "  <tbody>\n",
       "    <tr>\n",
       "      <th>0</th>\n",
       "      <td>0</td>\n",
       "      <td>Male</td>\n",
       "      <td>21</td>\n",
       "      <td>1</td>\n",
       "      <td>35.0</td>\n",
       "      <td>0</td>\n",
       "      <td>1-2 Year</td>\n",
       "      <td>Yes</td>\n",
       "      <td>65101.0</td>\n",
       "      <td>124.0</td>\n",
       "      <td>187</td>\n",
       "      <td>0</td>\n",
       "    </tr>\n",
       "    <tr>\n",
       "      <th>1</th>\n",
       "      <td>1</td>\n",
       "      <td>Male</td>\n",
       "      <td>43</td>\n",
       "      <td>1</td>\n",
       "      <td>28.0</td>\n",
       "      <td>0</td>\n",
       "      <td>&gt; 2 Years</td>\n",
       "      <td>Yes</td>\n",
       "      <td>58911.0</td>\n",
       "      <td>26.0</td>\n",
       "      <td>288</td>\n",
       "      <td>1</td>\n",
       "    </tr>\n",
       "    <tr>\n",
       "      <th>2</th>\n",
       "      <td>2</td>\n",
       "      <td>Female</td>\n",
       "      <td>25</td>\n",
       "      <td>1</td>\n",
       "      <td>14.0</td>\n",
       "      <td>1</td>\n",
       "      <td>&lt; 1 Year</td>\n",
       "      <td>No</td>\n",
       "      <td>38043.0</td>\n",
       "      <td>152.0</td>\n",
       "      <td>254</td>\n",
       "      <td>0</td>\n",
       "    </tr>\n",
       "    <tr>\n",
       "      <th>3</th>\n",
       "      <td>3</td>\n",
       "      <td>Female</td>\n",
       "      <td>35</td>\n",
       "      <td>1</td>\n",
       "      <td>1.0</td>\n",
       "      <td>0</td>\n",
       "      <td>1-2 Year</td>\n",
       "      <td>Yes</td>\n",
       "      <td>2630.0</td>\n",
       "      <td>156.0</td>\n",
       "      <td>76</td>\n",
       "      <td>0</td>\n",
       "    </tr>\n",
       "    <tr>\n",
       "      <th>4</th>\n",
       "      <td>4</td>\n",
       "      <td>Female</td>\n",
       "      <td>36</td>\n",
       "      <td>1</td>\n",
       "      <td>15.0</td>\n",
       "      <td>1</td>\n",
       "      <td>1-2 Year</td>\n",
       "      <td>No</td>\n",
       "      <td>31951.0</td>\n",
       "      <td>152.0</td>\n",
       "      <td>294</td>\n",
       "      <td>0</td>\n",
       "    </tr>\n",
       "  </tbody>\n",
       "</table>\n",
       "</div>"
      ],
      "text/plain": [
       "   id  Gender  Age  Driving_License  Region_Code  Previously_Insured  \\\n",
       "0   0    Male   21                1         35.0                   0   \n",
       "1   1    Male   43                1         28.0                   0   \n",
       "2   2  Female   25                1         14.0                   1   \n",
       "3   3  Female   35                1          1.0                   0   \n",
       "4   4  Female   36                1         15.0                   1   \n",
       "\n",
       "  Vehicle_Age Vehicle_Damage  Annual_Premium  Policy_Sales_Channel  Vintage  \\\n",
       "0    1-2 Year            Yes         65101.0                 124.0      187   \n",
       "1   > 2 Years            Yes         58911.0                  26.0      288   \n",
       "2    < 1 Year             No         38043.0                 152.0      254   \n",
       "3    1-2 Year            Yes          2630.0                 156.0       76   \n",
       "4    1-2 Year             No         31951.0                 152.0      294   \n",
       "\n",
       "   Response  \n",
       "0         0  \n",
       "1         1  \n",
       "2         0  \n",
       "3         0  \n",
       "4         0  "
      ]
     },
     "execution_count": 3,
     "metadata": {},
     "output_type": "execute_result"
    }
   ],
   "source": [
    "# prompt: check head of df\n",
    "\n",
    "df.head()\n"
   ]
  },
  {
   "cell_type": "code",
   "execution_count": 4,
   "id": "998914db",
   "metadata": {
    "execution": {
     "iopub.execute_input": "2024-01-06T12:57:12.569876Z",
     "iopub.status.busy": "2024-01-06T12:57:12.569370Z",
     "iopub.status.idle": "2024-01-06T12:57:12.649095Z",
     "shell.execute_reply": "2024-01-06T12:57:12.648029Z"
    },
    "executionInfo": {
     "elapsed": 10,
     "status": "ok",
     "timestamp": 1703159576169,
     "user": {
      "displayName": "Rohit Kumar Shaw",
      "userId": "08344271847417693490"
     },
     "user_tz": -330
    },
    "id": "wff_NcRXrFjC",
    "outputId": "8edae79d-4ab9-4299-c058-b4e631b146a4",
    "papermill": {
     "duration": 0.096199,
     "end_time": "2024-01-06T12:57:12.651472",
     "exception": false,
     "start_time": "2024-01-06T12:57:12.555273",
     "status": "completed"
    },
    "tags": []
   },
   "outputs": [
    {
     "name": "stdout",
     "output_type": "stream",
     "text": [
      "<class 'pandas.core.frame.DataFrame'>\n",
      "RangeIndex: 11504798 entries, 0 to 11504797\n",
      "Data columns (total 12 columns):\n",
      " #   Column                Dtype  \n",
      "---  ------                -----  \n",
      " 0   id                    int64  \n",
      " 1   Gender                object \n",
      " 2   Age                   int64  \n",
      " 3   Driving_License       int64  \n",
      " 4   Region_Code           float64\n",
      " 5   Previously_Insured    int64  \n",
      " 6   Vehicle_Age           object \n",
      " 7   Vehicle_Damage        object \n",
      " 8   Annual_Premium        float64\n",
      " 9   Policy_Sales_Channel  float64\n",
      " 10  Vintage               int64  \n",
      " 11  Response              int64  \n",
      "dtypes: float64(3), int64(6), object(3)\n",
      "memory usage: 1.0+ GB\n"
     ]
    }
   ],
   "source": [
    "df.info()"
   ]
  },
  {
   "cell_type": "code",
   "execution_count": 5,
   "id": "871d03da",
   "metadata": {
    "execution": {
     "iopub.execute_input": "2024-01-06T12:57:12.677559Z",
     "iopub.status.busy": "2024-01-06T12:57:12.677185Z",
     "iopub.status.idle": "2024-01-06T12:57:12.684200Z",
     "shell.execute_reply": "2024-01-06T12:57:12.683312Z"
    },
    "executionInfo": {
     "elapsed": 8,
     "status": "ok",
     "timestamp": 1703159576169,
     "user": {
      "displayName": "Rohit Kumar Shaw",
      "userId": "08344271847417693490"
     },
     "user_tz": -330
    },
    "id": "AO0GyJKsrYkG",
    "outputId": "5a5ec15c-dede-41d4-b2d0-96c1c3584017",
    "papermill": {
     "duration": 0.022731,
     "end_time": "2024-01-06T12:57:12.686576",
     "exception": false,
     "start_time": "2024-01-06T12:57:12.663845",
     "status": "completed"
    },
    "tags": []
   },
   "outputs": [
    {
     "data": {
      "text/plain": [
       "id                        int64\n",
       "Gender                   object\n",
       "Age                       int64\n",
       "Driving_License           int64\n",
       "Region_Code             float64\n",
       "Previously_Insured        int64\n",
       "Vehicle_Age              object\n",
       "Vehicle_Damage           object\n",
       "Annual_Premium          float64\n",
       "Policy_Sales_Channel    float64\n",
       "Vintage                   int64\n",
       "Response                  int64\n",
       "dtype: object"
      ]
     },
     "execution_count": 5,
     "metadata": {},
     "output_type": "execute_result"
    }
   ],
   "source": [
    "df.dtypes"
   ]
  },
  {
   "cell_type": "code",
   "execution_count": 6,
   "id": "f63953eb",
   "metadata": {
    "execution": {
     "iopub.execute_input": "2024-01-06T12:57:12.713589Z",
     "iopub.status.busy": "2024-01-06T12:57:12.712879Z",
     "iopub.status.idle": "2024-01-06T12:57:12.718520Z",
     "shell.execute_reply": "2024-01-06T12:57:12.717840Z"
    },
    "executionInfo": {
     "elapsed": 8,
     "status": "ok",
     "timestamp": 1703159576170,
     "user": {
      "displayName": "Rohit Kumar Shaw",
      "userId": "08344271847417693490"
     },
     "user_tz": -330
    },
    "id": "Bx9D3mQMraPx",
    "outputId": "a1c02fb7-a4ed-4644-b634-47aee7b57978",
    "papermill": {
     "duration": 0.02112,
     "end_time": "2024-01-06T12:57:12.720387",
     "exception": false,
     "start_time": "2024-01-06T12:57:12.699267",
     "status": "completed"
    },
    "tags": []
   },
   "outputs": [
    {
     "data": {
      "text/plain": [
       "(11504798, 12)"
      ]
     },
     "execution_count": 6,
     "metadata": {},
     "output_type": "execute_result"
    }
   ],
   "source": [
    "df.shape"
   ]
  },
  {
   "cell_type": "markdown",
   "id": "fde8f6f6",
   "metadata": {
    "papermill": {
     "duration": 0.012255,
     "end_time": "2024-01-06T12:57:12.745165",
     "exception": false,
     "start_time": "2024-01-06T12:57:12.732910",
     "status": "completed"
    },
    "tags": []
   },
   "source": [
    "# **4. Checking the Duplicate and Missing Values in the Dataset:**"
   ]
  },
  {
   "cell_type": "code",
   "execution_count": 7,
   "id": "1afc2124",
   "metadata": {
    "execution": {
     "iopub.execute_input": "2024-01-06T12:57:12.772082Z",
     "iopub.status.busy": "2024-01-06T12:57:12.771495Z",
     "iopub.status.idle": "2024-01-06T12:57:13.136565Z",
     "shell.execute_reply": "2024-01-06T12:57:13.135771Z"
    },
    "papermill": {
     "duration": 0.380616,
     "end_time": "2024-01-06T12:57:13.138673",
     "exception": false,
     "start_time": "2024-01-06T12:57:12.758057",
     "status": "completed"
    },
    "tags": []
   },
   "outputs": [
    {
     "data": {
      "text/plain": [
       "(11504798, 12)"
      ]
     },
     "execution_count": 7,
     "metadata": {},
     "output_type": "execute_result"
    }
   ],
   "source": [
    "df.duplicated().sum()\n",
    "df.drop_duplicates(inplace=True)\n",
    "df.shape"
   ]
  },
  {
   "cell_type": "code",
   "execution_count": 8,
   "id": "2c6b8dbc",
   "metadata": {
    "execution": {
     "iopub.execute_input": "2024-01-06T12:57:13.218208Z",
     "iopub.status.busy": "2024-01-06T12:57:13.217824Z",
     "iopub.status.idle": "2024-01-06T12:57:13.278806Z",
     "shell.execute_reply": "2024-01-06T12:57:13.277671Z"
    },
    "executionInfo": {
     "elapsed": 517,
     "status": "ok",
     "timestamp": 1703159576681,
     "user": {
      "displayName": "Rohit Kumar Shaw",
      "userId": "08344271847417693490"
     },
     "user_tz": -330
    },
    "id": "U0iqLOsBrb3B",
    "outputId": "dc09ca91-6a2c-4780-f655-840656cf366f",
    "papermill": {
     "duration": 0.077141,
     "end_time": "2024-01-06T12:57:13.281025",
     "exception": false,
     "start_time": "2024-01-06T12:57:13.203884",
     "status": "completed"
    },
    "tags": []
   },
   "outputs": [
    {
     "data": {
      "text/plain": [
       "id                      0\n",
       "Gender                  0\n",
       "Age                     0\n",
       "Driving_License         0\n",
       "Region_Code             0\n",
       "Previously_Insured      0\n",
       "Vehicle_Age             0\n",
       "Vehicle_Damage          0\n",
       "Annual_Premium          0\n",
       "Policy_Sales_Channel    0\n",
       "Vintage                 0\n",
       "Response                0\n",
       "dtype: int64"
      ]
     },
     "execution_count": 8,
     "metadata": {},
     "output_type": "execute_result"
    }
   ],
   "source": [
    "missing_values = df.isnull().sum()\n",
    "missing_values"
   ]
  },
  {
   "cell_type": "markdown",
   "id": "9e6ae2c4",
   "metadata": {
    "papermill": {
     "duration": 0.01232,
     "end_time": "2024-01-06T12:57:13.306196",
     "exception": false,
     "start_time": "2024-01-06T12:57:13.293876",
     "status": "completed"
    },
    "tags": []
   },
   "source": [
    "As We Can See There Are No Duplicate Values And Missing Values\n"
   ]
  },
  {
   "cell_type": "markdown",
   "id": "ea17a766",
   "metadata": {
    "papermill": {
     "duration": 0.01306,
     "end_time": "2024-01-06T12:57:13.332119",
     "exception": false,
     "start_time": "2024-01-06T12:57:13.319059",
     "status": "completed"
    },
    "tags": []
   },
   "source": [
    "# **5. Exploratory Data Analysis(EDA)**"
   ]
  },
  {
   "cell_type": "code",
   "execution_count": 9,
   "id": "df475788",
   "metadata": {
    "execution": {
     "iopub.execute_input": "2024-01-06T12:57:13.359283Z",
     "iopub.status.busy": "2024-01-06T12:57:13.358900Z",
     "iopub.status.idle": "2024-01-06T12:57:13.364049Z",
     "shell.execute_reply": "2024-01-06T12:57:13.363093Z"
    },
    "id": "FrmFIRZ1rfhe",
    "papermill": {
     "duration": 0.021084,
     "end_time": "2024-01-06T12:57:13.366017",
     "exception": false,
     "start_time": "2024-01-06T12:57:13.344933",
     "status": "completed"
    },
    "tags": []
   },
   "outputs": [],
   "source": [
    "sns.set(style=\"whitegrid\")"
   ]
  },
  {
   "cell_type": "code",
   "execution_count": 10,
   "id": "45f3d1f0",
   "metadata": {
    "execution": {
     "iopub.execute_input": "2024-01-06T12:57:13.394030Z",
     "iopub.status.busy": "2024-01-06T12:57:13.393245Z",
     "iopub.status.idle": "2024-01-06T12:59:26.575020Z",
     "shell.execute_reply": "2024-01-06T12:59:26.573816Z"
    },
    "executionInfo": {
     "elapsed": 397757,
     "status": "ok",
     "timestamp": 1703244041934,
     "user": {
      "displayName": "Rohit Kumar Shaw",
      "userId": "08344271847417693490"
     },
     "user_tz": -330
    },
    "id": "wHHcw18xr6EI",
    "outputId": "a0c6d2e5-7987-41d4-da07-ee1c6ff87e4c",
    "papermill": {
     "duration": 133.260115,
     "end_time": "2024-01-06T12:59:26.639464",
     "exception": false,
     "start_time": "2024-01-06T12:57:13.379349",
     "status": "completed"
    },
    "tags": []
   },
   "outputs": [],
   "source": [
    "# sns.pairplot(df)"
   ]
  },
  {
   "cell_type": "code",
   "execution_count": 11,
   "id": "30742a52",
   "metadata": {
    "execution": {
     "iopub.execute_input": "2024-01-06T12:59:26.716235Z",
     "iopub.status.busy": "2024-01-06T12:59:26.715821Z",
     "iopub.status.idle": "2024-01-06T12:59:27.024289Z",
     "shell.execute_reply": "2024-01-06T12:59:27.023213Z"
    },
    "executionInfo": {
     "elapsed": 488,
     "status": "ok",
     "timestamp": 1703159591426,
     "user": {
      "displayName": "Rohit Kumar Shaw",
      "userId": "08344271847417693490"
     },
     "user_tz": -330
    },
    "id": "wNef7MWxsO28",
    "outputId": "103efd07-e51d-4242-a1a7-4b89944b33ea",
    "papermill": {
     "duration": 0.349966,
     "end_time": "2024-01-06T12:59:27.026827",
     "exception": false,
     "start_time": "2024-01-06T12:59:26.676861",
     "status": "completed"
    },
    "tags": []
   },
   "outputs": [
    {
     "name": "stderr",
     "output_type": "stream",
     "text": [
      "c:\\Users\\hp\\AppData\\Local\\Programs\\Python\\Python311\\Lib\\site-packages\\seaborn\\_oldcore.py:1498: FutureWarning: is_categorical_dtype is deprecated and will be removed in a future version. Use isinstance(dtype, CategoricalDtype) instead\n",
      "  if pd.api.types.is_categorical_dtype(vector):\n"
     ]
    },
    {
     "data": {
      "image/png": "[encoded data removed]",
      "text/plain": [
       "<Figure size 700x400 with 1 Axes>"
      ]
     },
     "metadata": {},
     "output_type": "display_data"
    }
   ],
   "source": [
    "plt.figure(figsize=(7, 4))\n",
    "sns.boxplot(x=df['Annual_Premium'])\n",
    "plt.title('Distribution of Annual_Premium')\n",
    "plt.xlabel('Annual_Premium')\n",
    "plt.ylabel('Frequency')\n",
    "plt.show()"
   ]
  },
  {
   "cell_type": "code",
   "execution_count": 12,
   "id": "cc50ddc4",
   "metadata": {
    "execution": {
     "iopub.execute_input": "2024-01-06T12:59:27.105555Z",
     "iopub.status.busy": "2024-01-06T12:59:27.105025Z",
     "iopub.status.idle": "2024-01-06T12:59:27.767556Z",
     "shell.execute_reply": "2024-01-06T12:59:27.766616Z"
    },
    "executionInfo": {
     "elapsed": 1361,
     "status": "ok",
     "timestamp": 1703159596130,
     "user": {
      "displayName": "Rohit Kumar Shaw",
      "userId": "08344271847417693490"
     },
     "user_tz": -330
    },
    "id": "cFwjaTtbtplz",
    "outputId": "6a2934e6-51f1-45aa-c0da-9991c3387654",
    "papermill": {
     "duration": 0.704741,
     "end_time": "2024-01-06T12:59:27.769870",
     "exception": false,
     "start_time": "2024-01-06T12:59:27.065129",
     "status": "completed"
    },
    "tags": []
   },
   "outputs": [
    {
     "name": "stderr",
     "output_type": "stream",
     "text": [
      "c:\\Users\\hp\\AppData\\Local\\Programs\\Python\\Python311\\Lib\\site-packages\\seaborn\\_oldcore.py:1498: FutureWarning: is_categorical_dtype is deprecated and will be removed in a future version. Use isinstance(dtype, CategoricalDtype) instead\n",
      "  if pd.api.types.is_categorical_dtype(vector):\n",
      "c:\\Users\\hp\\AppData\\Local\\Programs\\Python\\Python311\\Lib\\site-packages\\seaborn\\_oldcore.py:1119: FutureWarning: use_inf_as_na option is deprecated and will be removed in a future version. Convert inf values to NaN before operating instead.\n",
      "  with pd.option_context('mode.use_inf_as_na', True):\n"
     ]
    },
    {
     "data": {
      "image/png": "[encoded data removed]",
      "text/plain": [
       "<Figure size 1000x600 with 1 Axes>"
      ]
     },
     "metadata": {},
     "output_type": "display_data"
    }
   ],
   "source": [
    "plt.figure(figsize=(10, 6))\n",
    "sns.histplot(df['Age'], kde=False, bins=10)\n",
    "plt.title('Distribution of Age')\n",
    "plt.xlabel('Age')\n",
    "plt.ylabel('Frequency')\n",
    "plt.show()"
   ]
  },
  {
   "cell_type": "code",
   "execution_count": 13,
   "id": "2e8f523e",
   "metadata": {
    "execution": {
     "iopub.execute_input": "2024-01-06T12:59:27.847999Z",
     "iopub.status.busy": "2024-01-06T12:59:27.847248Z",
     "iopub.status.idle": "2024-01-06T12:59:28.511325Z",
     "shell.execute_reply": "2024-01-06T12:59:28.510221Z"
    },
    "executionInfo": {
     "elapsed": 1155,
     "status": "ok",
     "timestamp": 1703159601104,
     "user": {
      "displayName": "Rohit Kumar Shaw",
      "userId": "08344271847417693490"
     },
     "user_tz": -330
    },
    "id": "Dnm2XmvDvsSz",
    "outputId": "6fe2da4c-b309-4b13-f788-ec28b12a9f39",
    "papermill": {
     "duration": 0.705639,
     "end_time": "2024-01-06T12:59:28.513660",
     "exception": false,
     "start_time": "2024-01-06T12:59:27.808021",
     "status": "completed"
    },
    "tags": []
   },
   "outputs": [
    {
     "name": "stderr",
     "output_type": "stream",
     "text": [
      "c:\\Users\\hp\\AppData\\Local\\Programs\\Python\\Python311\\Lib\\site-packages\\seaborn\\_oldcore.py:1498: FutureWarning: is_categorical_dtype is deprecated and will be removed in a future version. Use isinstance(dtype, CategoricalDtype) instead\n",
      "  if pd.api.types.is_categorical_dtype(vector):\n",
      "c:\\Users\\hp\\AppData\\Local\\Programs\\Python\\Python311\\Lib\\site-packages\\seaborn\\_oldcore.py:1119: FutureWarning: use_inf_as_na option is deprecated and will be removed in a future version. Convert inf values to NaN before operating instead.\n",
      "  with pd.option_context('mode.use_inf_as_na', True):\n"
     ]
    },
    {
     "data": {
      "image/png": "[encoded data removed]",
      "text/plain": [
       "<Figure size 1000x600 with 1 Axes>"
      ]
     },
     "metadata": {},
     "output_type": "display_data"
    }
   ],
   "source": [
    "plt.figure(figsize=(10, 6))\n",
    "sns.histplot(df['Region_Code'], kde=False, bins=12)\n",
    "plt.title('Distribution of Region_Code')\n",
    "plt.xlabel('Region_Code')\n",
    "plt.ylabel('Frequency')\n",
    "plt.show()"
   ]
  },
  {
   "cell_type": "code",
   "execution_count": 14,
   "id": "8c8d4887",
   "metadata": {
    "execution": {
     "iopub.execute_input": "2024-01-06T12:59:28.593973Z",
     "iopub.status.busy": "2024-01-06T12:59:28.593596Z",
     "iopub.status.idle": "2024-01-06T12:59:29.469435Z",
     "shell.execute_reply": "2024-01-06T12:59:29.468301Z"
    },
    "executionInfo": {
     "elapsed": 732,
     "status": "ok",
     "timestamp": 1703159601830,
     "user": {
      "displayName": "Rohit Kumar Shaw",
      "userId": "08344271847417693490"
     },
     "user_tz": -330
    },
    "id": "cZndUBV2wM5D",
    "outputId": "b00923af-e426-45c0-bd0a-fcb982d31d31",
    "papermill": {
     "duration": 0.918257,
     "end_time": "2024-01-06T12:59:29.471755",
     "exception": false,
     "start_time": "2024-01-06T12:59:28.553498",
     "status": "completed"
    },
    "tags": []
   },
   "outputs": [
    {
     "name": "stderr",
     "output_type": "stream",
     "text": [
      "c:\\Users\\hp\\AppData\\Local\\Programs\\Python\\Python311\\Lib\\site-packages\\seaborn\\_oldcore.py:1498: FutureWarning: is_categorical_dtype is deprecated and will be removed in a future version. Use isinstance(dtype, CategoricalDtype) instead\n",
      "  if pd.api.types.is_categorical_dtype(vector):\n",
      "c:\\Users\\hp\\AppData\\Local\\Programs\\Python\\Python311\\Lib\\site-packages\\seaborn\\_oldcore.py:1498: FutureWarning: is_categorical_dtype is deprecated and will be removed in a future version. Use isinstance(dtype, CategoricalDtype) instead\n",
      "  if pd.api.types.is_categorical_dtype(vector):\n",
      "c:\\Users\\hp\\AppData\\Local\\Programs\\Python\\Python311\\Lib\\site-packages\\seaborn\\_oldcore.py:1119: FutureWarning: use_inf_as_na option is deprecated and will be removed in a future version. Convert inf values to NaN before operating instead.\n",
      "  with pd.option_context('mode.use_inf_as_na', True):\n"
     ]
    },
    {
     "data": {
      "image/png": "[encoded data removed]",
      "text/plain": [
       "<Figure size 1000x600 with 1 Axes>"
      ]
     },
     "metadata": {},
     "output_type": "display_data"
    }
   ],
   "source": [
    "plt.figure(figsize=(10, 6))\n",
    "sns.histplot(df['Vehicle_Age'], kde=False, bins=10)\n",
    "plt.title('Distribution of Vehicle_Age')\n",
    "plt.xlabel('Vehicle_Age')\n",
    "plt.ylabel('Frequency')\n",
    "plt.show()"
   ]
  },
  {
   "cell_type": "code",
   "execution_count": 15,
   "id": "a64bb804",
   "metadata": {
    "execution": {
     "iopub.execute_input": "2024-01-06T12:59:29.554265Z",
     "iopub.status.busy": "2024-01-06T12:59:29.553866Z",
     "iopub.status.idle": "2024-01-06T12:59:29.715499Z",
     "shell.execute_reply": "2024-01-06T12:59:29.714240Z"
    },
    "papermill": {
     "duration": 0.20592,
     "end_time": "2024-01-06T12:59:29.717823",
     "exception": false,
     "start_time": "2024-01-06T12:59:29.511903",
     "status": "completed"
    },
    "tags": []
   },
   "outputs": [
    {
     "data": {
      "text/plain": [
       "Text(0.5, 1.0, 'Checking Imbalance in Training Data Or Response')"
      ]
     },
     "execution_count": 15,
     "metadata": {},
     "output_type": "execute_result"
    },
    {
     "data": {
      "text/plain": [
       "<Figure size 600x600 with 0 Axes>"
      ]
     },
     "metadata": {},
     "output_type": "display_data"
    },
    {
     "data": {
      "image/png": "[encoded data removed]",
      "text/plain": [
       "<Figure size 640x480 with 1 Axes>"
      ]
     },
     "metadata": {},
     "output_type": "display_data"
    }
   ],
   "source": [
    "#Checking If training data is Imbalanced\n",
    "response_data = df['Response'].value_counts()\n",
    "plt.figure(figsize=(6,6))\n",
    "fig, ax = plt.subplots()\n",
    "ax.pie(response_data, labels = [0,1])\n",
    "ax.set_title('Checking Imbalance in Training Data Or Response')\n"
   ]
  },
  {
   "cell_type": "markdown",
   "id": "a10fcc4d",
   "metadata": {
    "papermill": {
     "duration": 0.042304,
     "end_time": "2024-01-06T12:59:29.802207",
     "exception": false,
     "start_time": "2024-01-06T12:59:29.759903",
     "status": "completed"
    },
    "tags": []
   },
   "source": [
    "# **6. Feature Engineering**"
   ]
  },
  {
   "cell_type": "code",
   "execution_count": 16,
   "id": "a4567ff2",
   "metadata": {
    "execution": {
     "iopub.execute_input": "2024-01-06T12:59:29.890899Z",
     "iopub.status.busy": "2024-01-06T12:59:29.890517Z",
     "iopub.status.idle": "2024-01-06T12:59:29.966377Z",
     "shell.execute_reply": "2024-01-06T12:59:29.965358Z"
    },
    "executionInfo": {
     "elapsed": 479,
     "status": "ok",
     "timestamp": 1703239294497,
     "user": {
      "displayName": "Rohit Kumar Shaw",
      "userId": "08344271847417693490"
     },
     "user_tz": -330
    },
    "id": "D05gQfQqyWAp",
    "outputId": "6cb3fb50-2260-4ff3-a2fb-9d7040516a97",
    "papermill": {
     "duration": 0.124665,
     "end_time": "2024-01-06T12:59:29.970258",
     "exception": false,
     "start_time": "2024-01-06T12:59:29.845593",
     "status": "completed"
    },
    "tags": []
   },
   "outputs": [
    {
     "name": "stdout",
     "output_type": "stream",
     "text": [
      "<class 'pandas.core.frame.DataFrame'>\n",
      "RangeIndex: 11504798 entries, 0 to 11504797\n",
      "Data columns (total 12 columns):\n",
      " #   Column                Dtype  \n",
      "---  ------                -----  \n",
      " 0   id                    int64  \n",
      " 1   Gender                object \n",
      " 2   Age                   int64  \n",
      " 3   Driving_License       int64  \n",
      " 4   Region_Code           float64\n",
      " 5   Previously_Insured    int64  \n",
      " 6   Vehicle_Age           object \n",
      " 7   Vehicle_Damage        object \n",
      " 8   Annual_Premium        float64\n",
      " 9   Policy_Sales_Channel  float64\n",
      " 10  Vintage               int64  \n",
      " 11  Response              int64  \n",
      "dtypes: float64(3), int64(6), object(3)\n",
      "memory usage: 1.0+ GB\n",
      "\n",
      "\n"
     ]
    },
    {
     "data": {
      "text/html": [
       "<div>\n",
       "<style scoped>\n",
       "    .dataframe tbody tr th:only-of-type {\n",
       "        vertical-align: middle;\n",
       "    }\n",
       "\n",
       "    .dataframe tbody tr th {\n",
       "        vertical-align: top;\n",
       "    }\n",
       "\n",
       "    .dataframe thead th {\n",
       "        text-align: right;\n",
       "    }\n",
       "</style>\n",
       "<table border=\"1\" class=\"dataframe\">\n",
       "  <thead>\n",
       "    <tr style=\"text-align: right;\">\n",
       "      <th></th>\n",
       "      <th>id</th>\n",
       "      <th>Gender</th>\n",
       "      <th>Age</th>\n",
       "      <th>Driving_License</th>\n",
       "      <th>Region_Code</th>\n",
       "      <th>Previously_Insured</th>\n",
       "      <th>Vehicle_Age</th>\n",
       "      <th>Vehicle_Damage</th>\n",
       "      <th>Annual_Premium</th>\n",
       "      <th>Policy_Sales_Channel</th>\n",
       "      <th>Vintage</th>\n",
       "      <th>Response</th>\n",
       "    </tr>\n",
       "  </thead>\n",
       "  <tbody>\n",
       "    <tr>\n",
       "      <th>0</th>\n",
       "      <td>0</td>\n",
       "      <td>Male</td>\n",
       "      <td>21</td>\n",
       "      <td>1</td>\n",
       "      <td>35.0</td>\n",
       "      <td>0</td>\n",
       "      <td>1-2 Year</td>\n",
       "      <td>Yes</td>\n",
       "      <td>65101.0</td>\n",
       "      <td>124.0</td>\n",
       "      <td>187</td>\n",
       "      <td>0</td>\n",
       "    </tr>\n",
       "    <tr>\n",
       "      <th>1</th>\n",
       "      <td>1</td>\n",
       "      <td>Male</td>\n",
       "      <td>43</td>\n",
       "      <td>1</td>\n",
       "      <td>28.0</td>\n",
       "      <td>0</td>\n",
       "      <td>&gt; 2 Years</td>\n",
       "      <td>Yes</td>\n",
       "      <td>58911.0</td>\n",
       "      <td>26.0</td>\n",
       "      <td>288</td>\n",
       "      <td>1</td>\n",
       "    </tr>\n",
       "    <tr>\n",
       "      <th>2</th>\n",
       "      <td>2</td>\n",
       "      <td>Female</td>\n",
       "      <td>25</td>\n",
       "      <td>1</td>\n",
       "      <td>14.0</td>\n",
       "      <td>1</td>\n",
       "      <td>&lt; 1 Year</td>\n",
       "      <td>No</td>\n",
       "      <td>38043.0</td>\n",
       "      <td>152.0</td>\n",
       "      <td>254</td>\n",
       "      <td>0</td>\n",
       "    </tr>\n",
       "    <tr>\n",
       "      <th>3</th>\n",
       "      <td>3</td>\n",
       "      <td>Female</td>\n",
       "      <td>35</td>\n",
       "      <td>1</td>\n",
       "      <td>1.0</td>\n",
       "      <td>0</td>\n",
       "      <td>1-2 Year</td>\n",
       "      <td>Yes</td>\n",
       "      <td>2630.0</td>\n",
       "      <td>156.0</td>\n",
       "      <td>76</td>\n",
       "      <td>0</td>\n",
       "    </tr>\n",
       "    <tr>\n",
       "      <th>4</th>\n",
       "      <td>4</td>\n",
       "      <td>Female</td>\n",
       "      <td>36</td>\n",
       "      <td>1</td>\n",
       "      <td>15.0</td>\n",
       "      <td>1</td>\n",
       "      <td>1-2 Year</td>\n",
       "      <td>No</td>\n",
       "      <td>31951.0</td>\n",
       "      <td>152.0</td>\n",
       "      <td>294</td>\n",
       "      <td>0</td>\n",
       "    </tr>\n",
       "  </tbody>\n",
       "</table>\n",
       "</div>"
      ],
      "text/plain": [
       "   id  Gender  Age  Driving_License  Region_Code  Previously_Insured  \\\n",
       "0   0    Male   21                1         35.0                   0   \n",
       "1   1    Male   43                1         28.0                   0   \n",
       "2   2  Female   25                1         14.0                   1   \n",
       "3   3  Female   35                1          1.0                   0   \n",
       "4   4  Female   36                1         15.0                   1   \n",
       "\n",
       "  Vehicle_Age Vehicle_Damage  Annual_Premium  Policy_Sales_Channel  Vintage  \\\n",
       "0    1-2 Year            Yes         65101.0                 124.0      187   \n",
       "1   > 2 Years            Yes         58911.0                  26.0      288   \n",
       "2    < 1 Year             No         38043.0                 152.0      254   \n",
       "3    1-2 Year            Yes          2630.0                 156.0       76   \n",
       "4    1-2 Year             No         31951.0                 152.0      294   \n",
       "\n",
       "   Response  \n",
       "0         0  \n",
       "1         1  \n",
       "2         0  \n",
       "3         0  \n",
       "4         0  "
      ]
     },
     "execution_count": 16,
     "metadata": {},
     "output_type": "execute_result"
    }
   ],
   "source": [
    "df.info()\n",
    "print('\\n')\n",
    "df.head()\n"
   ]
  },
  {
   "cell_type": "code",
   "execution_count": 17,
   "id": "1f5b13fd",
   "metadata": {
    "execution": {
     "iopub.execute_input": "2024-01-06T12:59:30.059612Z",
     "iopub.status.busy": "2024-01-06T12:59:30.059163Z",
     "iopub.status.idle": "2024-01-06T12:59:30.065028Z",
     "shell.execute_reply": "2024-01-06T12:59:30.063727Z"
    },
    "executionInfo": {
     "elapsed": 13,
     "status": "ok",
     "timestamp": 1703239295019,
     "user": {
      "displayName": "Rohit Kumar Shaw",
      "userId": "08344271847417693490"
     },
     "user_tz": -330
    },
    "id": "OeaHppGyynTh",
    "papermill": {
     "duration": 0.053472,
     "end_time": "2024-01-06T12:59:30.067316",
     "exception": false,
     "start_time": "2024-01-06T12:59:30.013844",
     "status": "completed"
    },
    "tags": []
   },
   "outputs": [],
   "source": [
    "def veh_a(Vehicle_Damage):\n",
    "  if Vehicle_Damage == 'Yes':\n",
    "    return 1\n",
    "  else:\n",
    "    return 0"
   ]
  },
  {
   "cell_type": "code",
   "execution_count": 18,
   "id": "9e1f16d2",
   "metadata": {
    "execution": {
     "iopub.execute_input": "2024-01-06T12:59:30.156333Z",
     "iopub.status.busy": "2024-01-06T12:59:30.155938Z",
     "iopub.status.idle": "2024-01-06T12:59:30.337527Z",
     "shell.execute_reply": "2024-01-06T12:59:30.336350Z"
    },
    "executionInfo": {
     "elapsed": 13,
     "status": "ok",
     "timestamp": 1703239295020,
     "user": {
      "displayName": "Rohit Kumar Shaw",
      "userId": "08344271847417693490"
     },
     "user_tz": -330
    },
    "id": "_m70AJBNz91C",
    "outputId": "f054fd9f-1261-4925-b3d7-f02a1afc4d48",
    "papermill": {
     "duration": 0.228479,
     "end_time": "2024-01-06T12:59:30.339803",
     "exception": false,
     "start_time": "2024-01-06T12:59:30.111324",
     "status": "completed"
    },
    "tags": []
   },
   "outputs": [
    {
     "data": {
      "text/html": [
       "<div>\n",
       "<style scoped>\n",
       "    .dataframe tbody tr th:only-of-type {\n",
       "        vertical-align: middle;\n",
       "    }\n",
       "\n",
       "    .dataframe tbody tr th {\n",
       "        vertical-align: top;\n",
       "    }\n",
       "\n",
       "    .dataframe thead th {\n",
       "        text-align: right;\n",
       "    }\n",
       "</style>\n",
       "<table border=\"1\" class=\"dataframe\">\n",
       "  <thead>\n",
       "    <tr style=\"text-align: right;\">\n",
       "      <th></th>\n",
       "      <th>id</th>\n",
       "      <th>Gender</th>\n",
       "      <th>Age</th>\n",
       "      <th>Driving_License</th>\n",
       "      <th>Region_Code</th>\n",
       "      <th>Previously_Insured</th>\n",
       "      <th>Vehicle_Age</th>\n",
       "      <th>Annual_Premium</th>\n",
       "      <th>Policy_Sales_Channel</th>\n",
       "      <th>Vintage</th>\n",
       "      <th>Response</th>\n",
       "      <th>Vehicle_Damages</th>\n",
       "    </tr>\n",
       "  </thead>\n",
       "  <tbody>\n",
       "    <tr>\n",
       "      <th>0</th>\n",
       "      <td>0</td>\n",
       "      <td>Male</td>\n",
       "      <td>21</td>\n",
       "      <td>1</td>\n",
       "      <td>35.0</td>\n",
       "      <td>0</td>\n",
       "      <td>1-2 Year</td>\n",
       "      <td>65101.0</td>\n",
       "      <td>124.0</td>\n",
       "      <td>187</td>\n",
       "      <td>0</td>\n",
       "      <td>1</td>\n",
       "    </tr>\n",
       "    <tr>\n",
       "      <th>1</th>\n",
       "      <td>1</td>\n",
       "      <td>Male</td>\n",
       "      <td>43</td>\n",
       "      <td>1</td>\n",
       "      <td>28.0</td>\n",
       "      <td>0</td>\n",
       "      <td>&gt; 2 Years</td>\n",
       "      <td>58911.0</td>\n",
       "      <td>26.0</td>\n",
       "      <td>288</td>\n",
       "      <td>1</td>\n",
       "      <td>1</td>\n",
       "    </tr>\n",
       "    <tr>\n",
       "      <th>2</th>\n",
       "      <td>2</td>\n",
       "      <td>Female</td>\n",
       "      <td>25</td>\n",
       "      <td>1</td>\n",
       "      <td>14.0</td>\n",
       "      <td>1</td>\n",
       "      <td>&lt; 1 Year</td>\n",
       "      <td>38043.0</td>\n",
       "      <td>152.0</td>\n",
       "      <td>254</td>\n",
       "      <td>0</td>\n",
       "      <td>0</td>\n",
       "    </tr>\n",
       "    <tr>\n",
       "      <th>3</th>\n",
       "      <td>3</td>\n",
       "      <td>Female</td>\n",
       "      <td>35</td>\n",
       "      <td>1</td>\n",
       "      <td>1.0</td>\n",
       "      <td>0</td>\n",
       "      <td>1-2 Year</td>\n",
       "      <td>2630.0</td>\n",
       "      <td>156.0</td>\n",
       "      <td>76</td>\n",
       "      <td>0</td>\n",
       "      <td>1</td>\n",
       "    </tr>\n",
       "    <tr>\n",
       "      <th>4</th>\n",
       "      <td>4</td>\n",
       "      <td>Female</td>\n",
       "      <td>36</td>\n",
       "      <td>1</td>\n",
       "      <td>15.0</td>\n",
       "      <td>1</td>\n",
       "      <td>1-2 Year</td>\n",
       "      <td>31951.0</td>\n",
       "      <td>152.0</td>\n",
       "      <td>294</td>\n",
       "      <td>0</td>\n",
       "      <td>0</td>\n",
       "    </tr>\n",
       "    <tr>\n",
       "      <th>...</th>\n",
       "      <td>...</td>\n",
       "      <td>...</td>\n",
       "      <td>...</td>\n",
       "      <td>...</td>\n",
       "      <td>...</td>\n",
       "      <td>...</td>\n",
       "      <td>...</td>\n",
       "      <td>...</td>\n",
       "      <td>...</td>\n",
       "      <td>...</td>\n",
       "      <td>...</td>\n",
       "      <td>...</td>\n",
       "    </tr>\n",
       "    <tr>\n",
       "      <th>11504793</th>\n",
       "      <td>11504793</td>\n",
       "      <td>Male</td>\n",
       "      <td>48</td>\n",
       "      <td>1</td>\n",
       "      <td>6.0</td>\n",
       "      <td>0</td>\n",
       "      <td>1-2 Year</td>\n",
       "      <td>27412.0</td>\n",
       "      <td>26.0</td>\n",
       "      <td>218</td>\n",
       "      <td>0</td>\n",
       "      <td>1</td>\n",
       "    </tr>\n",
       "    <tr>\n",
       "      <th>11504794</th>\n",
       "      <td>11504794</td>\n",
       "      <td>Female</td>\n",
       "      <td>26</td>\n",
       "      <td>1</td>\n",
       "      <td>36.0</td>\n",
       "      <td>0</td>\n",
       "      <td>&lt; 1 Year</td>\n",
       "      <td>29509.0</td>\n",
       "      <td>152.0</td>\n",
       "      <td>115</td>\n",
       "      <td>1</td>\n",
       "      <td>1</td>\n",
       "    </tr>\n",
       "    <tr>\n",
       "      <th>11504795</th>\n",
       "      <td>11504795</td>\n",
       "      <td>Female</td>\n",
       "      <td>29</td>\n",
       "      <td>1</td>\n",
       "      <td>32.0</td>\n",
       "      <td>1</td>\n",
       "      <td>&lt; 1 Year</td>\n",
       "      <td>2630.0</td>\n",
       "      <td>152.0</td>\n",
       "      <td>189</td>\n",
       "      <td>0</td>\n",
       "      <td>0</td>\n",
       "    </tr>\n",
       "    <tr>\n",
       "      <th>11504796</th>\n",
       "      <td>11504796</td>\n",
       "      <td>Female</td>\n",
       "      <td>51</td>\n",
       "      <td>1</td>\n",
       "      <td>28.0</td>\n",
       "      <td>0</td>\n",
       "      <td>1-2 Year</td>\n",
       "      <td>48443.0</td>\n",
       "      <td>26.0</td>\n",
       "      <td>274</td>\n",
       "      <td>1</td>\n",
       "      <td>1</td>\n",
       "    </tr>\n",
       "    <tr>\n",
       "      <th>11504797</th>\n",
       "      <td>11504797</td>\n",
       "      <td>Male</td>\n",
       "      <td>25</td>\n",
       "      <td>1</td>\n",
       "      <td>28.0</td>\n",
       "      <td>1</td>\n",
       "      <td>&lt; 1 Year</td>\n",
       "      <td>32855.0</td>\n",
       "      <td>152.0</td>\n",
       "      <td>189</td>\n",
       "      <td>0</td>\n",
       "      <td>0</td>\n",
       "    </tr>\n",
       "  </tbody>\n",
       "</table>\n",
       "<p>11504798 rows × 12 columns</p>\n",
       "</div>"
      ],
      "text/plain": [
       "                id  Gender  Age  Driving_License  Region_Code  \\\n",
       "0                0    Male   21                1         35.0   \n",
       "1                1    Male   43                1         28.0   \n",
       "2                2  Female   25                1         14.0   \n",
       "3                3  Female   35                1          1.0   \n",
       "4                4  Female   36                1         15.0   \n",
       "...            ...     ...  ...              ...          ...   \n",
       "11504793  11504793    Male   48                1          6.0   \n",
       "11504794  11504794  Female   26                1         36.0   \n",
       "11504795  11504795  Female   29                1         32.0   \n",
       "11504796  11504796  Female   51                1         28.0   \n",
       "11504797  11504797    Male   25                1         28.0   \n",
       "\n",
       "          Previously_Insured Vehicle_Age  Annual_Premium  \\\n",
       "0                          0    1-2 Year         65101.0   \n",
       "1                          0   > 2 Years         58911.0   \n",
       "2                          1    < 1 Year         38043.0   \n",
       "3                          0    1-2 Year          2630.0   \n",
       "4                          1    1-2 Year         31951.0   \n",
       "...                      ...         ...             ...   \n",
       "11504793                   0    1-2 Year         27412.0   \n",
       "11504794                   0    < 1 Year         29509.0   \n",
       "11504795                   1    < 1 Year          2630.0   \n",
       "11504796                   0    1-2 Year         48443.0   \n",
       "11504797                   1    < 1 Year         32855.0   \n",
       "\n",
       "          Policy_Sales_Channel  Vintage  Response  Vehicle_Damages  \n",
       "0                        124.0      187         0                1  \n",
       "1                         26.0      288         1                1  \n",
       "2                        152.0      254         0                0  \n",
       "3                        156.0       76         0                1  \n",
       "4                        152.0      294         0                0  \n",
       "...                        ...      ...       ...              ...  \n",
       "11504793                  26.0      218         0                1  \n",
       "11504794                 152.0      115         1                1  \n",
       "11504795                 152.0      189         0                0  \n",
       "11504796                  26.0      274         1                1  \n",
       "11504797                 152.0      189         0                0  \n",
       "\n",
       "[11504798 rows x 12 columns]"
      ]
     },
     "execution_count": 18,
     "metadata": {},
     "output_type": "execute_result"
    }
   ],
   "source": [
    "df['Vehicle_Damages'] = df['Vehicle_Damage'].apply(veh_a)\n",
    "df.drop(['Vehicle_Damage'],axis=1)"
   ]
  },
  {
   "cell_type": "code",
   "execution_count": 19,
   "id": "5f86fada",
   "metadata": {
    "execution": {
     "iopub.execute_input": "2024-01-06T12:59:30.434301Z",
     "iopub.status.busy": "2024-01-06T12:59:30.433945Z",
     "iopub.status.idle": "2024-01-06T12:59:30.528129Z",
     "shell.execute_reply": "2024-01-06T12:59:30.526971Z"
    },
    "executionInfo": {
     "elapsed": 12,
     "status": "ok",
     "timestamp": 1703239295020,
     "user": {
      "displayName": "Rohit Kumar Shaw",
      "userId": "08344271847417693490"
     },
     "user_tz": -330
    },
    "id": "CCnyf8L7N-he",
    "outputId": "99ecb6b4-1f2a-410f-b2ec-c4261b43f7fd",
    "papermill": {
     "duration": 0.144484,
     "end_time": "2024-01-06T12:59:30.530570",
     "exception": false,
     "start_time": "2024-01-06T12:59:30.386086",
     "status": "completed"
    },
    "tags": []
   },
   "outputs": [
    {
     "data": {
      "text/html": [
       "<div>\n",
       "<style scoped>\n",
       "    .dataframe tbody tr th:only-of-type {\n",
       "        vertical-align: middle;\n",
       "    }\n",
       "\n",
       "    .dataframe tbody tr th {\n",
       "        vertical-align: top;\n",
       "    }\n",
       "\n",
       "    .dataframe thead th {\n",
       "        text-align: right;\n",
       "    }\n",
       "</style>\n",
       "<table border=\"1\" class=\"dataframe\">\n",
       "  <thead>\n",
       "    <tr style=\"text-align: right;\">\n",
       "      <th></th>\n",
       "      <th>id</th>\n",
       "      <th>Gender</th>\n",
       "      <th>Age</th>\n",
       "      <th>Driving_License</th>\n",
       "      <th>Region_Code</th>\n",
       "      <th>Previously_Insured</th>\n",
       "      <th>Vehicle_Damage</th>\n",
       "      <th>Annual_Premium</th>\n",
       "      <th>Policy_Sales_Channel</th>\n",
       "      <th>Vintage</th>\n",
       "      <th>Response</th>\n",
       "      <th>Vehicle_Damages</th>\n",
       "      <th>Vehicle_Age_1-2 Year</th>\n",
       "      <th>Vehicle_Age_&lt; 1 Year</th>\n",
       "      <th>Vehicle_Age_&gt; 2 Years</th>\n",
       "    </tr>\n",
       "  </thead>\n",
       "  <tbody>\n",
       "    <tr>\n",
       "      <th>0</th>\n",
       "      <td>0</td>\n",
       "      <td>Male</td>\n",
       "      <td>21</td>\n",
       "      <td>1</td>\n",
       "      <td>35.0</td>\n",
       "      <td>0</td>\n",
       "      <td>Yes</td>\n",
       "      <td>65101.0</td>\n",
       "      <td>124.0</td>\n",
       "      <td>187</td>\n",
       "      <td>0</td>\n",
       "      <td>1</td>\n",
       "      <td>True</td>\n",
       "      <td>False</td>\n",
       "      <td>False</td>\n",
       "    </tr>\n",
       "    <tr>\n",
       "      <th>1</th>\n",
       "      <td>1</td>\n",
       "      <td>Male</td>\n",
       "      <td>43</td>\n",
       "      <td>1</td>\n",
       "      <td>28.0</td>\n",
       "      <td>0</td>\n",
       "      <td>Yes</td>\n",
       "      <td>58911.0</td>\n",
       "      <td>26.0</td>\n",
       "      <td>288</td>\n",
       "      <td>1</td>\n",
       "      <td>1</td>\n",
       "      <td>False</td>\n",
       "      <td>False</td>\n",
       "      <td>True</td>\n",
       "    </tr>\n",
       "    <tr>\n",
       "      <th>2</th>\n",
       "      <td>2</td>\n",
       "      <td>Female</td>\n",
       "      <td>25</td>\n",
       "      <td>1</td>\n",
       "      <td>14.0</td>\n",
       "      <td>1</td>\n",
       "      <td>No</td>\n",
       "      <td>38043.0</td>\n",
       "      <td>152.0</td>\n",
       "      <td>254</td>\n",
       "      <td>0</td>\n",
       "      <td>0</td>\n",
       "      <td>False</td>\n",
       "      <td>True</td>\n",
       "      <td>False</td>\n",
       "    </tr>\n",
       "    <tr>\n",
       "      <th>3</th>\n",
       "      <td>3</td>\n",
       "      <td>Female</td>\n",
       "      <td>35</td>\n",
       "      <td>1</td>\n",
       "      <td>1.0</td>\n",
       "      <td>0</td>\n",
       "      <td>Yes</td>\n",
       "      <td>2630.0</td>\n",
       "      <td>156.0</td>\n",
       "      <td>76</td>\n",
       "      <td>0</td>\n",
       "      <td>1</td>\n",
       "      <td>True</td>\n",
       "      <td>False</td>\n",
       "      <td>False</td>\n",
       "    </tr>\n",
       "    <tr>\n",
       "      <th>4</th>\n",
       "      <td>4</td>\n",
       "      <td>Female</td>\n",
       "      <td>36</td>\n",
       "      <td>1</td>\n",
       "      <td>15.0</td>\n",
       "      <td>1</td>\n",
       "      <td>No</td>\n",
       "      <td>31951.0</td>\n",
       "      <td>152.0</td>\n",
       "      <td>294</td>\n",
       "      <td>0</td>\n",
       "      <td>0</td>\n",
       "      <td>True</td>\n",
       "      <td>False</td>\n",
       "      <td>False</td>\n",
       "    </tr>\n",
       "  </tbody>\n",
       "</table>\n",
       "</div>"
      ],
      "text/plain": [
       "   id  Gender  Age  Driving_License  Region_Code  Previously_Insured  \\\n",
       "0   0    Male   21                1         35.0                   0   \n",
       "1   1    Male   43                1         28.0                   0   \n",
       "2   2  Female   25                1         14.0                   1   \n",
       "3   3  Female   35                1          1.0                   0   \n",
       "4   4  Female   36                1         15.0                   1   \n",
       "\n",
       "  Vehicle_Damage  Annual_Premium  Policy_Sales_Channel  Vintage  Response  \\\n",
       "0            Yes         65101.0                 124.0      187         0   \n",
       "1            Yes         58911.0                  26.0      288         1   \n",
       "2             No         38043.0                 152.0      254         0   \n",
       "3            Yes          2630.0                 156.0       76         0   \n",
       "4             No         31951.0                 152.0      294         0   \n",
       "\n",
       "   Vehicle_Damages  Vehicle_Age_1-2 Year  Vehicle_Age_< 1 Year  \\\n",
       "0                1                  True                 False   \n",
       "1                1                 False                 False   \n",
       "2                0                 False                  True   \n",
       "3                1                  True                 False   \n",
       "4                0                  True                 False   \n",
       "\n",
       "   Vehicle_Age_> 2 Years  \n",
       "0                  False  \n",
       "1                   True  \n",
       "2                  False  \n",
       "3                  False  \n",
       "4                  False  "
      ]
     },
     "execution_count": 19,
     "metadata": {},
     "output_type": "execute_result"
    }
   ],
   "source": [
    "df['Vehicle_Age'] = df['Vehicle_Age'].astype('category')\n",
    "df = pd.get_dummies(df, columns=['Vehicle_Age'])\n",
    "df.head()\n"
   ]
  },
  {
   "cell_type": "code",
   "execution_count": 20,
   "id": "8de29a85",
   "metadata": {
    "execution": {
     "iopub.execute_input": "2024-01-06T12:59:30.623621Z",
     "iopub.status.busy": "2024-01-06T12:59:30.623238Z",
     "iopub.status.idle": "2024-01-06T12:59:30.638165Z",
     "shell.execute_reply": "2024-01-06T12:59:30.637109Z"
    },
    "executionInfo": {
     "elapsed": 11,
     "status": "ok",
     "timestamp": 1703239295020,
     "user": {
      "displayName": "Rohit Kumar Shaw",
      "userId": "08344271847417693490"
     },
     "user_tz": -330
    },
    "id": "SY908cwm9TDG",
    "outputId": "11339ce7-3a93-44b7-c2d6-3c4794397a58",
    "papermill": {
     "duration": 0.063104,
     "end_time": "2024-01-06T12:59:30.640301",
     "exception": false,
     "start_time": "2024-01-06T12:59:30.577197",
     "status": "completed"
    },
    "tags": []
   },
   "outputs": [
    {
     "data": {
      "text/html": [
       "<div>\n",
       "<style scoped>\n",
       "    .dataframe tbody tr th:only-of-type {\n",
       "        vertical-align: middle;\n",
       "    }\n",
       "\n",
       "    .dataframe tbody tr th {\n",
       "        vertical-align: top;\n",
       "    }\n",
       "\n",
       "    .dataframe thead th {\n",
       "        text-align: right;\n",
       "    }\n",
       "</style>\n",
       "<table border=\"1\" class=\"dataframe\">\n",
       "  <thead>\n",
       "    <tr style=\"text-align: right;\">\n",
       "      <th></th>\n",
       "      <th>id</th>\n",
       "      <th>Gender</th>\n",
       "      <th>Age</th>\n",
       "      <th>Driving_License</th>\n",
       "      <th>Region_Code</th>\n",
       "      <th>Previously_Insured</th>\n",
       "      <th>Vehicle_Age</th>\n",
       "      <th>Vehicle_Damage</th>\n",
       "      <th>Annual_Premium</th>\n",
       "      <th>Policy_Sales_Channel</th>\n",
       "      <th>Vintage</th>\n",
       "    </tr>\n",
       "  </thead>\n",
       "  <tbody>\n",
       "    <tr>\n",
       "      <th>0</th>\n",
       "      <td>11504798</td>\n",
       "      <td>Female</td>\n",
       "      <td>20</td>\n",
       "      <td>1</td>\n",
       "      <td>47.0</td>\n",
       "      <td>0</td>\n",
       "      <td>&lt; 1 Year</td>\n",
       "      <td>No</td>\n",
       "      <td>2630.0</td>\n",
       "      <td>160.0</td>\n",
       "      <td>228</td>\n",
       "    </tr>\n",
       "    <tr>\n",
       "      <th>1</th>\n",
       "      <td>11504799</td>\n",
       "      <td>Male</td>\n",
       "      <td>47</td>\n",
       "      <td>1</td>\n",
       "      <td>28.0</td>\n",
       "      <td>0</td>\n",
       "      <td>1-2 Year</td>\n",
       "      <td>Yes</td>\n",
       "      <td>37483.0</td>\n",
       "      <td>124.0</td>\n",
       "      <td>123</td>\n",
       "    </tr>\n",
       "    <tr>\n",
       "      <th>2</th>\n",
       "      <td>11504800</td>\n",
       "      <td>Male</td>\n",
       "      <td>47</td>\n",
       "      <td>1</td>\n",
       "      <td>43.0</td>\n",
       "      <td>0</td>\n",
       "      <td>1-2 Year</td>\n",
       "      <td>Yes</td>\n",
       "      <td>2630.0</td>\n",
       "      <td>26.0</td>\n",
       "      <td>271</td>\n",
       "    </tr>\n",
       "    <tr>\n",
       "      <th>3</th>\n",
       "      <td>11504801</td>\n",
       "      <td>Female</td>\n",
       "      <td>22</td>\n",
       "      <td>1</td>\n",
       "      <td>47.0</td>\n",
       "      <td>1</td>\n",
       "      <td>&lt; 1 Year</td>\n",
       "      <td>No</td>\n",
       "      <td>24502.0</td>\n",
       "      <td>152.0</td>\n",
       "      <td>115</td>\n",
       "    </tr>\n",
       "    <tr>\n",
       "      <th>4</th>\n",
       "      <td>11504802</td>\n",
       "      <td>Male</td>\n",
       "      <td>51</td>\n",
       "      <td>1</td>\n",
       "      <td>19.0</td>\n",
       "      <td>0</td>\n",
       "      <td>1-2 Year</td>\n",
       "      <td>No</td>\n",
       "      <td>34115.0</td>\n",
       "      <td>124.0</td>\n",
       "      <td>148</td>\n",
       "    </tr>\n",
       "  </tbody>\n",
       "</table>\n",
       "</div>"
      ],
      "text/plain": [
       "         id  Gender  Age  Driving_License  Region_Code  Previously_Insured  \\\n",
       "0  11504798  Female   20                1         47.0                   0   \n",
       "1  11504799    Male   47                1         28.0                   0   \n",
       "2  11504800    Male   47                1         43.0                   0   \n",
       "3  11504801  Female   22                1         47.0                   1   \n",
       "4  11504802    Male   51                1         19.0                   0   \n",
       "\n",
       "  Vehicle_Age Vehicle_Damage  Annual_Premium  Policy_Sales_Channel  Vintage  \n",
       "0    < 1 Year             No          2630.0                 160.0      228  \n",
       "1    1-2 Year            Yes         37483.0                 124.0      123  \n",
       "2    1-2 Year            Yes          2630.0                  26.0      271  \n",
       "3    < 1 Year             No         24502.0                 152.0      115  \n",
       "4    1-2 Year             No         34115.0                 124.0      148  "
      ]
     },
     "execution_count": 20,
     "metadata": {},
     "output_type": "execute_result"
    }
   ],
   "source": [
    "df_test.head()"
   ]
  },
  {
   "cell_type": "code",
   "execution_count": 21,
   "id": "17192029",
   "metadata": {
    "execution": {
     "iopub.execute_input": "2024-01-06T12:59:30.731919Z",
     "iopub.status.busy": "2024-01-06T12:59:30.730863Z",
     "iopub.status.idle": "2024-01-06T12:59:30.735432Z",
     "shell.execute_reply": "2024-01-06T12:59:30.734705Z"
    },
    "executionInfo": {
     "elapsed": 11,
     "status": "ok",
     "timestamp": 1703239295021,
     "user": {
      "displayName": "Rohit Kumar Shaw",
      "userId": "08344271847417693490"
     },
     "user_tz": -330
    },
    "id": "E762s-R49lSu",
    "papermill": {
     "duration": 0.052317,
     "end_time": "2024-01-06T12:59:30.737221",
     "exception": false,
     "start_time": "2024-01-06T12:59:30.684904",
     "status": "completed"
    },
    "tags": []
   },
   "outputs": [],
   "source": [
    "def veh_a(Vehicle_Damage):\n",
    "  if Vehicle_Damage == 'Yes':\n",
    "    return 1\n",
    "  else:\n",
    "    return 0"
   ]
  },
  {
   "cell_type": "code",
   "execution_count": 22,
   "id": "db355a76",
   "metadata": {
    "execution": {
     "iopub.execute_input": "2024-01-06T12:59:30.828474Z",
     "iopub.status.busy": "2024-01-06T12:59:30.827671Z",
     "iopub.status.idle": "2024-01-06T12:59:30.902296Z",
     "shell.execute_reply": "2024-01-06T12:59:30.901213Z"
    },
    "executionInfo": {
     "elapsed": 12,
     "status": "ok",
     "timestamp": 1703239295022,
     "user": {
      "displayName": "Rohit Kumar Shaw",
      "userId": "08344271847417693490"
     },
     "user_tz": -330
    },
    "id": "2EITW10J9xVk",
    "outputId": "4b8edcb0-725d-4f0b-e219-66280b5a392e",
    "papermill": {
     "duration": 0.122964,
     "end_time": "2024-01-06T12:59:30.904675",
     "exception": false,
     "start_time": "2024-01-06T12:59:30.781711",
     "status": "completed"
    },
    "tags": []
   },
   "outputs": [
    {
     "data": {
      "text/html": [
       "<div>\n",
       "<style scoped>\n",
       "    .dataframe tbody tr th:only-of-type {\n",
       "        vertical-align: middle;\n",
       "    }\n",
       "\n",
       "    .dataframe tbody tr th {\n",
       "        vertical-align: top;\n",
       "    }\n",
       "\n",
       "    .dataframe thead th {\n",
       "        text-align: right;\n",
       "    }\n",
       "</style>\n",
       "<table border=\"1\" class=\"dataframe\">\n",
       "  <thead>\n",
       "    <tr style=\"text-align: right;\">\n",
       "      <th></th>\n",
       "      <th>id</th>\n",
       "      <th>Gender</th>\n",
       "      <th>Age</th>\n",
       "      <th>Driving_License</th>\n",
       "      <th>Region_Code</th>\n",
       "      <th>Previously_Insured</th>\n",
       "      <th>Vehicle_Age</th>\n",
       "      <th>Annual_Premium</th>\n",
       "      <th>Policy_Sales_Channel</th>\n",
       "      <th>Vintage</th>\n",
       "      <th>Vehicle_Damages</th>\n",
       "    </tr>\n",
       "  </thead>\n",
       "  <tbody>\n",
       "    <tr>\n",
       "      <th>0</th>\n",
       "      <td>11504798</td>\n",
       "      <td>Female</td>\n",
       "      <td>20</td>\n",
       "      <td>1</td>\n",
       "      <td>47.0</td>\n",
       "      <td>0</td>\n",
       "      <td>&lt; 1 Year</td>\n",
       "      <td>2630.0</td>\n",
       "      <td>160.0</td>\n",
       "      <td>228</td>\n",
       "      <td>0</td>\n",
       "    </tr>\n",
       "    <tr>\n",
       "      <th>1</th>\n",
       "      <td>11504799</td>\n",
       "      <td>Male</td>\n",
       "      <td>47</td>\n",
       "      <td>1</td>\n",
       "      <td>28.0</td>\n",
       "      <td>0</td>\n",
       "      <td>1-2 Year</td>\n",
       "      <td>37483.0</td>\n",
       "      <td>124.0</td>\n",
       "      <td>123</td>\n",
       "      <td>1</td>\n",
       "    </tr>\n",
       "    <tr>\n",
       "      <th>2</th>\n",
       "      <td>11504800</td>\n",
       "      <td>Male</td>\n",
       "      <td>47</td>\n",
       "      <td>1</td>\n",
       "      <td>43.0</td>\n",
       "      <td>0</td>\n",
       "      <td>1-2 Year</td>\n",
       "      <td>2630.0</td>\n",
       "      <td>26.0</td>\n",
       "      <td>271</td>\n",
       "      <td>1</td>\n",
       "    </tr>\n",
       "    <tr>\n",
       "      <th>3</th>\n",
       "      <td>11504801</td>\n",
       "      <td>Female</td>\n",
       "      <td>22</td>\n",
       "      <td>1</td>\n",
       "      <td>47.0</td>\n",
       "      <td>1</td>\n",
       "      <td>&lt; 1 Year</td>\n",
       "      <td>24502.0</td>\n",
       "      <td>152.0</td>\n",
       "      <td>115</td>\n",
       "      <td>0</td>\n",
       "    </tr>\n",
       "    <tr>\n",
       "      <th>4</th>\n",
       "      <td>11504802</td>\n",
       "      <td>Male</td>\n",
       "      <td>51</td>\n",
       "      <td>1</td>\n",
       "      <td>19.0</td>\n",
       "      <td>0</td>\n",
       "      <td>1-2 Year</td>\n",
       "      <td>34115.0</td>\n",
       "      <td>124.0</td>\n",
       "      <td>148</td>\n",
       "      <td>0</td>\n",
       "    </tr>\n",
       "    <tr>\n",
       "      <th>...</th>\n",
       "      <td>...</td>\n",
       "      <td>...</td>\n",
       "      <td>...</td>\n",
       "      <td>...</td>\n",
       "      <td>...</td>\n",
       "      <td>...</td>\n",
       "      <td>...</td>\n",
       "      <td>...</td>\n",
       "      <td>...</td>\n",
       "      <td>...</td>\n",
       "      <td>...</td>\n",
       "    </tr>\n",
       "    <tr>\n",
       "      <th>7669861</th>\n",
       "      <td>19174659</td>\n",
       "      <td>Male</td>\n",
       "      <td>57</td>\n",
       "      <td>1</td>\n",
       "      <td>28.0</td>\n",
       "      <td>0</td>\n",
       "      <td>1-2 Year</td>\n",
       "      <td>51661.0</td>\n",
       "      <td>124.0</td>\n",
       "      <td>109</td>\n",
       "      <td>1</td>\n",
       "    </tr>\n",
       "    <tr>\n",
       "      <th>7669862</th>\n",
       "      <td>19174660</td>\n",
       "      <td>Male</td>\n",
       "      <td>28</td>\n",
       "      <td>1</td>\n",
       "      <td>50.0</td>\n",
       "      <td>1</td>\n",
       "      <td>&lt; 1 Year</td>\n",
       "      <td>25651.0</td>\n",
       "      <td>152.0</td>\n",
       "      <td>184</td>\n",
       "      <td>0</td>\n",
       "    </tr>\n",
       "    <tr>\n",
       "      <th>7669863</th>\n",
       "      <td>19174661</td>\n",
       "      <td>Male</td>\n",
       "      <td>47</td>\n",
       "      <td>1</td>\n",
       "      <td>33.0</td>\n",
       "      <td>1</td>\n",
       "      <td>1-2 Year</td>\n",
       "      <td>2630.0</td>\n",
       "      <td>138.0</td>\n",
       "      <td>63</td>\n",
       "      <td>0</td>\n",
       "    </tr>\n",
       "    <tr>\n",
       "      <th>7669864</th>\n",
       "      <td>19174662</td>\n",
       "      <td>Male</td>\n",
       "      <td>30</td>\n",
       "      <td>1</td>\n",
       "      <td>28.0</td>\n",
       "      <td>0</td>\n",
       "      <td>&lt; 1 Year</td>\n",
       "      <td>38866.0</td>\n",
       "      <td>124.0</td>\n",
       "      <td>119</td>\n",
       "      <td>1</td>\n",
       "    </tr>\n",
       "    <tr>\n",
       "      <th>7669865</th>\n",
       "      <td>19174663</td>\n",
       "      <td>Male</td>\n",
       "      <td>23</td>\n",
       "      <td>1</td>\n",
       "      <td>46.0</td>\n",
       "      <td>1</td>\n",
       "      <td>&lt; 1 Year</td>\n",
       "      <td>27498.0</td>\n",
       "      <td>152.0</td>\n",
       "      <td>79</td>\n",
       "      <td>0</td>\n",
       "    </tr>\n",
       "  </tbody>\n",
       "</table>\n",
       "<p>7669866 rows × 11 columns</p>\n",
       "</div>"
      ],
      "text/plain": [
       "               id  Gender  Age  Driving_License  Region_Code  \\\n",
       "0        11504798  Female   20                1         47.0   \n",
       "1        11504799    Male   47                1         28.0   \n",
       "2        11504800    Male   47                1         43.0   \n",
       "3        11504801  Female   22                1         47.0   \n",
       "4        11504802    Male   51                1         19.0   \n",
       "...           ...     ...  ...              ...          ...   \n",
       "7669861  19174659    Male   57                1         28.0   \n",
       "7669862  19174660    Male   28                1         50.0   \n",
       "7669863  19174661    Male   47                1         33.0   \n",
       "7669864  19174662    Male   30                1         28.0   \n",
       "7669865  19174663    Male   23                1         46.0   \n",
       "\n",
       "         Previously_Insured Vehicle_Age  Annual_Premium  Policy_Sales_Channel  \\\n",
       "0                         0    < 1 Year          2630.0                 160.0   \n",
       "1                         0    1-2 Year         37483.0                 124.0   \n",
       "2                         0    1-2 Year          2630.0                  26.0   \n",
       "3                         1    < 1 Year         24502.0                 152.0   \n",
       "4                         0    1-2 Year         34115.0                 124.0   \n",
       "...                     ...         ...             ...                   ...   \n",
       "7669861                   0    1-2 Year         51661.0                 124.0   \n",
       "7669862                   1    < 1 Year         25651.0                 152.0   \n",
       "7669863                   1    1-2 Year          2630.0                 138.0   \n",
       "7669864                   0    < 1 Year         38866.0                 124.0   \n",
       "7669865                   1    < 1 Year         27498.0                 152.0   \n",
       "\n",
       "         Vintage  Vehicle_Damages  \n",
       "0            228                0  \n",
       "1            123                1  \n",
       "2            271                1  \n",
       "3            115                0  \n",
       "4            148                0  \n",
       "...          ...              ...  \n",
       "7669861      109                1  \n",
       "7669862      184                0  \n",
       "7669863       63                0  \n",
       "7669864      119                1  \n",
       "7669865       79                0  \n",
       "\n",
       "[7669866 rows x 11 columns]"
      ]
     },
     "execution_count": 22,
     "metadata": {},
     "output_type": "execute_result"
    }
   ],
   "source": [
    "df_test['Vehicle_Damages'] = df_test['Vehicle_Damage'].apply(veh_a)\n",
    "df_test.drop(['Vehicle_Damage'],axis=1)"
   ]
  },
  {
   "cell_type": "code",
   "execution_count": 23,
   "id": "9fa4ced8",
   "metadata": {
    "execution": {
     "iopub.execute_input": "2024-01-06T12:59:30.996824Z",
     "iopub.status.busy": "2024-01-06T12:59:30.995777Z",
     "iopub.status.idle": "2024-01-06T12:59:31.038346Z",
     "shell.execute_reply": "2024-01-06T12:59:31.037173Z"
    },
    "executionInfo": {
     "elapsed": 476,
     "status": "ok",
     "timestamp": 1703239295487,
     "user": {
      "displayName": "Rohit Kumar Shaw",
      "userId": "08344271847417693490"
     },
     "user_tz": -330
    },
    "id": "dIMxfZd093Cd",
    "outputId": "8f24c2de-882f-40f7-d823-240b976a1b47",
    "papermill": {
     "duration": 0.09212,
     "end_time": "2024-01-06T12:59:31.041566",
     "exception": false,
     "start_time": "2024-01-06T12:59:30.949446",
     "status": "completed"
    },
    "tags": []
   },
   "outputs": [
    {
     "data": {
      "text/html": [
       "<div>\n",
       "<style scoped>\n",
       "    .dataframe tbody tr th:only-of-type {\n",
       "        vertical-align: middle;\n",
       "    }\n",
       "\n",
       "    .dataframe tbody tr th {\n",
       "        vertical-align: top;\n",
       "    }\n",
       "\n",
       "    .dataframe thead th {\n",
       "        text-align: right;\n",
       "    }\n",
       "</style>\n",
       "<table border=\"1\" class=\"dataframe\">\n",
       "  <thead>\n",
       "    <tr style=\"text-align: right;\">\n",
       "      <th></th>\n",
       "      <th>id</th>\n",
       "      <th>Gender</th>\n",
       "      <th>Age</th>\n",
       "      <th>Driving_License</th>\n",
       "      <th>Region_Code</th>\n",
       "      <th>Previously_Insured</th>\n",
       "      <th>Vehicle_Damage</th>\n",
       "      <th>Annual_Premium</th>\n",
       "      <th>Policy_Sales_Channel</th>\n",
       "      <th>Vintage</th>\n",
       "      <th>Vehicle_Damages</th>\n",
       "      <th>Vehicle_Age_1-2 Year</th>\n",
       "      <th>Vehicle_Age_&lt; 1 Year</th>\n",
       "      <th>Vehicle_Age_&gt; 2 Years</th>\n",
       "    </tr>\n",
       "  </thead>\n",
       "  <tbody>\n",
       "    <tr>\n",
       "      <th>0</th>\n",
       "      <td>11504798</td>\n",
       "      <td>Female</td>\n",
       "      <td>20</td>\n",
       "      <td>1</td>\n",
       "      <td>47.0</td>\n",
       "      <td>0</td>\n",
       "      <td>No</td>\n",
       "      <td>2630.0</td>\n",
       "      <td>160.0</td>\n",
       "      <td>228</td>\n",
       "      <td>0</td>\n",
       "      <td>False</td>\n",
       "      <td>True</td>\n",
       "      <td>False</td>\n",
       "    </tr>\n",
       "    <tr>\n",
       "      <th>1</th>\n",
       "      <td>11504799</td>\n",
       "      <td>Male</td>\n",
       "      <td>47</td>\n",
       "      <td>1</td>\n",
       "      <td>28.0</td>\n",
       "      <td>0</td>\n",
       "      <td>Yes</td>\n",
       "      <td>37483.0</td>\n",
       "      <td>124.0</td>\n",
       "      <td>123</td>\n",
       "      <td>1</td>\n",
       "      <td>True</td>\n",
       "      <td>False</td>\n",
       "      <td>False</td>\n",
       "    </tr>\n",
       "    <tr>\n",
       "      <th>2</th>\n",
       "      <td>11504800</td>\n",
       "      <td>Male</td>\n",
       "      <td>47</td>\n",
       "      <td>1</td>\n",
       "      <td>43.0</td>\n",
       "      <td>0</td>\n",
       "      <td>Yes</td>\n",
       "      <td>2630.0</td>\n",
       "      <td>26.0</td>\n",
       "      <td>271</td>\n",
       "      <td>1</td>\n",
       "      <td>True</td>\n",
       "      <td>False</td>\n",
       "      <td>False</td>\n",
       "    </tr>\n",
       "    <tr>\n",
       "      <th>3</th>\n",
       "      <td>11504801</td>\n",
       "      <td>Female</td>\n",
       "      <td>22</td>\n",
       "      <td>1</td>\n",
       "      <td>47.0</td>\n",
       "      <td>1</td>\n",
       "      <td>No</td>\n",
       "      <td>24502.0</td>\n",
       "      <td>152.0</td>\n",
       "      <td>115</td>\n",
       "      <td>0</td>\n",
       "      <td>False</td>\n",
       "      <td>True</td>\n",
       "      <td>False</td>\n",
       "    </tr>\n",
       "    <tr>\n",
       "      <th>4</th>\n",
       "      <td>11504802</td>\n",
       "      <td>Male</td>\n",
       "      <td>51</td>\n",
       "      <td>1</td>\n",
       "      <td>19.0</td>\n",
       "      <td>0</td>\n",
       "      <td>No</td>\n",
       "      <td>34115.0</td>\n",
       "      <td>124.0</td>\n",
       "      <td>148</td>\n",
       "      <td>0</td>\n",
       "      <td>True</td>\n",
       "      <td>False</td>\n",
       "      <td>False</td>\n",
       "    </tr>\n",
       "  </tbody>\n",
       "</table>\n",
       "</div>"
      ],
      "text/plain": [
       "         id  Gender  Age  Driving_License  Region_Code  Previously_Insured  \\\n",
       "0  11504798  Female   20                1         47.0                   0   \n",
       "1  11504799    Male   47                1         28.0                   0   \n",
       "2  11504800    Male   47                1         43.0                   0   \n",
       "3  11504801  Female   22                1         47.0                   1   \n",
       "4  11504802    Male   51                1         19.0                   0   \n",
       "\n",
       "  Vehicle_Damage  Annual_Premium  Policy_Sales_Channel  Vintage  \\\n",
       "0             No          2630.0                 160.0      228   \n",
       "1            Yes         37483.0                 124.0      123   \n",
       "2            Yes          2630.0                  26.0      271   \n",
       "3             No         24502.0                 152.0      115   \n",
       "4             No         34115.0                 124.0      148   \n",
       "\n",
       "   Vehicle_Damages  Vehicle_Age_1-2 Year  Vehicle_Age_< 1 Year  \\\n",
       "0                0                 False                  True   \n",
       "1                1                  True                 False   \n",
       "2                1                  True                 False   \n",
       "3                0                 False                  True   \n",
       "4                0                  True                 False   \n",
       "\n",
       "   Vehicle_Age_> 2 Years  \n",
       "0                  False  \n",
       "1                  False  \n",
       "2                  False  \n",
       "3                  False  \n",
       "4                  False  "
      ]
     },
     "execution_count": 23,
     "metadata": {},
     "output_type": "execute_result"
    }
   ],
   "source": [
    "df_test['Vehicle_Age'] = df_test['Vehicle_Age'].astype('category')\n",
    "df_test = pd.get_dummies(df_test, columns=['Vehicle_Age'])\n",
    "df_test.head()"
   ]
  },
  {
   "cell_type": "code",
   "execution_count": 24,
   "id": "61b792fb",
   "metadata": {
    "execution": {
     "iopub.execute_input": "2024-01-06T12:59:31.136260Z",
     "iopub.status.busy": "2024-01-06T12:59:31.135065Z",
     "iopub.status.idle": "2024-01-06T12:59:31.226009Z",
     "shell.execute_reply": "2024-01-06T12:59:31.224888Z"
    },
    "executionInfo": {
     "elapsed": 457,
     "status": "ok",
     "timestamp": 1703239751206,
     "user": {
      "displayName": "Rohit Kumar Shaw",
      "userId": "08344271847417693490"
     },
     "user_tz": -330
    },
    "id": "uyxrockE-Bup",
    "papermill": {
     "duration": 0.1417,
     "end_time": "2024-01-06T12:59:31.228486",
     "exception": false,
     "start_time": "2024-01-06T12:59:31.086786",
     "status": "completed"
    },
    "tags": []
   },
   "outputs": [],
   "source": [
    "df_test['Gender'] = df_test['Gender'].astype('category')\n",
    "df_test = pd.get_dummies(df_test, columns=['Gender'],drop_first=True)\n",
    "\n",
    "df['Gender'] = df['Gender'].astype('category')\n",
    "df = pd.get_dummies(df, columns=['Gender'],drop_first=True)"
   ]
  },
  {
   "cell_type": "code",
   "execution_count": 25,
   "id": "ff114efe",
   "metadata": {
    "execution": {
     "iopub.execute_input": "2024-01-06T12:59:31.322562Z",
     "iopub.status.busy": "2024-01-06T12:59:31.321365Z",
     "iopub.status.idle": "2024-01-06T12:59:31.341586Z",
     "shell.execute_reply": "2024-01-06T12:59:31.340679Z"
    },
    "executionInfo": {
     "elapsed": 4,
     "status": "ok",
     "timestamp": 1703240662434,
     "user": {
      "displayName": "Rohit Kumar Shaw",
      "userId": "08344271847417693490"
     },
     "user_tz": -330
    },
    "id": "_IgGk7h7DVDJ",
    "papermill": {
     "duration": 0.069943,
     "end_time": "2024-01-06T12:59:31.344195",
     "exception": false,
     "start_time": "2024-01-06T12:59:31.274252",
     "status": "completed"
    },
    "tags": []
   },
   "outputs": [],
   "source": [
    "df = df.drop(['Vehicle_Damage'],axis=1)\n",
    "df_test = df_test.drop(['Vehicle_Damage'],axis=1)"
   ]
  },
  {
   "cell_type": "markdown",
   "id": "3cb481d8",
   "metadata": {
    "papermill": {
     "duration": 0.045996,
     "end_time": "2024-01-06T12:59:31.437018",
     "exception": false,
     "start_time": "2024-01-06T12:59:31.391022",
     "status": "completed"
    },
    "tags": []
   },
   "source": [
    "# **7. SPLITTING DATA**"
   ]
  },
  {
   "cell_type": "code",
   "execution_count": 26,
   "id": "7b8a21be",
   "metadata": {
    "execution": {
     "iopub.execute_input": "2024-01-06T12:59:31.531029Z",
     "iopub.status.busy": "2024-01-06T12:59:31.530122Z",
     "iopub.status.idle": "2024-01-06T12:59:31.547745Z",
     "shell.execute_reply": "2024-01-06T12:59:31.546734Z"
    },
    "executionInfo": {
     "elapsed": 461,
     "status": "ok",
     "timestamp": 1703240800138,
     "user": {
      "displayName": "Rohit Kumar Shaw",
      "userId": "08344271847417693490"
     },
     "user_tz": -330
    },
    "id": "Km6wcOKXAl6L",
    "papermill": {
     "duration": 0.066953,
     "end_time": "2024-01-06T12:59:31.550029",
     "exception": false,
     "start_time": "2024-01-06T12:59:31.483076",
     "status": "completed"
    },
    "tags": []
   },
   "outputs": [],
   "source": [
    "X_train = df[['Age', 'Driving_License', 'Region_Code', 'Previously_Insured', 'Annual_Premium', 'Policy_Sales_Channel', 'Vintage', 'Vehicle_Damages', 'Vehicle_Age_1-2 Year','Vehicle_Age_< 1 Year', 'Vehicle_Age_> 2 Years', 'Gender_Male']]\n",
    "y_train = df['Response']\n",
    "\n",
    "X_test = df_test[['Age', 'Driving_License', 'Region_Code', 'Previously_Insured', 'Annual_Premium', 'Policy_Sales_Channel', 'Vintage', 'Vehicle_Damages', 'Vehicle_Age_1-2 Year','Vehicle_Age_< 1 Year', 'Vehicle_Age_> 2 Years', 'Gender_Male']]"
   ]
  },
  {
   "cell_type": "code",
   "execution_count": 27,
   "id": "80a3c018",
   "metadata": {
    "execution": {
     "iopub.execute_input": "2024-01-06T12:59:31.644848Z",
     "iopub.status.busy": "2024-01-06T12:59:31.644351Z",
     "iopub.status.idle": "2024-01-06T12:59:31.652803Z",
     "shell.execute_reply": "2024-01-06T12:59:31.651668Z"
    },
    "papermill": {
     "duration": 0.058957,
     "end_time": "2024-01-06T12:59:31.654749",
     "exception": false,
     "start_time": "2024-01-06T12:59:31.595792",
     "status": "completed"
    },
    "tags": []
   },
   "outputs": [
    {
     "data": {
      "text/plain": [
       "0    0\n",
       "1    1\n",
       "2    0\n",
       "3    0\n",
       "4    0\n",
       "Name: Response, dtype: int64"
      ]
     },
     "execution_count": 27,
     "metadata": {},
     "output_type": "execute_result"
    }
   ],
   "source": [
    "y_train.head()"
   ]
  },
  {
   "cell_type": "code",
   "execution_count": 28,
   "id": "de7a8f1d",
   "metadata": {
    "execution": {
     "iopub.execute_input": "2024-01-06T12:59:31.748728Z",
     "iopub.status.busy": "2024-01-06T12:59:31.747756Z",
     "iopub.status.idle": "2024-01-06T12:59:31.764485Z",
     "shell.execute_reply": "2024-01-06T12:59:31.763524Z"
    },
    "executionInfo": {
     "elapsed": 7,
     "status": "ok",
     "timestamp": 1703240762696,
     "user": {
      "displayName": "Rohit Kumar Shaw",
      "userId": "08344271847417693490"
     },
     "user_tz": -330
    },
    "id": "PmOU3035CvnK",
    "outputId": "220b19e6-bdcc-44d9-cc91-0c54317cffc3",
    "papermill": {
     "duration": 0.066411,
     "end_time": "2024-01-06T12:59:31.766642",
     "exception": false,
     "start_time": "2024-01-06T12:59:31.700231",
     "status": "completed"
    },
    "tags": []
   },
   "outputs": [
    {
     "data": {
      "text/html": [
       "<div>\n",
       "<style scoped>\n",
       "    .dataframe tbody tr th:only-of-type {\n",
       "        vertical-align: middle;\n",
       "    }\n",
       "\n",
       "    .dataframe tbody tr th {\n",
       "        vertical-align: top;\n",
       "    }\n",
       "\n",
       "    .dataframe thead th {\n",
       "        text-align: right;\n",
       "    }\n",
       "</style>\n",
       "<table border=\"1\" class=\"dataframe\">\n",
       "  <thead>\n",
       "    <tr style=\"text-align: right;\">\n",
       "      <th></th>\n",
       "      <th>id</th>\n",
       "      <th>Age</th>\n",
       "      <th>Driving_License</th>\n",
       "      <th>Region_Code</th>\n",
       "      <th>Previously_Insured</th>\n",
       "      <th>Annual_Premium</th>\n",
       "      <th>Policy_Sales_Channel</th>\n",
       "      <th>Vintage</th>\n",
       "      <th>Vehicle_Damages</th>\n",
       "      <th>Vehicle_Age_1-2 Year</th>\n",
       "      <th>Vehicle_Age_&lt; 1 Year</th>\n",
       "      <th>Vehicle_Age_&gt; 2 Years</th>\n",
       "      <th>Gender_Male</th>\n",
       "    </tr>\n",
       "  </thead>\n",
       "  <tbody>\n",
       "    <tr>\n",
       "      <th>0</th>\n",
       "      <td>11504798</td>\n",
       "      <td>20</td>\n",
       "      <td>1</td>\n",
       "      <td>47.0</td>\n",
       "      <td>0</td>\n",
       "      <td>2630.0</td>\n",
       "      <td>160.0</td>\n",
       "      <td>228</td>\n",
       "      <td>0</td>\n",
       "      <td>False</td>\n",
       "      <td>True</td>\n",
       "      <td>False</td>\n",
       "      <td>False</td>\n",
       "    </tr>\n",
       "    <tr>\n",
       "      <th>1</th>\n",
       "      <td>11504799</td>\n",
       "      <td>47</td>\n",
       "      <td>1</td>\n",
       "      <td>28.0</td>\n",
       "      <td>0</td>\n",
       "      <td>37483.0</td>\n",
       "      <td>124.0</td>\n",
       "      <td>123</td>\n",
       "      <td>1</td>\n",
       "      <td>True</td>\n",
       "      <td>False</td>\n",
       "      <td>False</td>\n",
       "      <td>True</td>\n",
       "    </tr>\n",
       "    <tr>\n",
       "      <th>2</th>\n",
       "      <td>11504800</td>\n",
       "      <td>47</td>\n",
       "      <td>1</td>\n",
       "      <td>43.0</td>\n",
       "      <td>0</td>\n",
       "      <td>2630.0</td>\n",
       "      <td>26.0</td>\n",
       "      <td>271</td>\n",
       "      <td>1</td>\n",
       "      <td>True</td>\n",
       "      <td>False</td>\n",
       "      <td>False</td>\n",
       "      <td>True</td>\n",
       "    </tr>\n",
       "    <tr>\n",
       "      <th>3</th>\n",
       "      <td>11504801</td>\n",
       "      <td>22</td>\n",
       "      <td>1</td>\n",
       "      <td>47.0</td>\n",
       "      <td>1</td>\n",
       "      <td>24502.0</td>\n",
       "      <td>152.0</td>\n",
       "      <td>115</td>\n",
       "      <td>0</td>\n",
       "      <td>False</td>\n",
       "      <td>True</td>\n",
       "      <td>False</td>\n",
       "      <td>False</td>\n",
       "    </tr>\n",
       "    <tr>\n",
       "      <th>4</th>\n",
       "      <td>11504802</td>\n",
       "      <td>51</td>\n",
       "      <td>1</td>\n",
       "      <td>19.0</td>\n",
       "      <td>0</td>\n",
       "      <td>34115.0</td>\n",
       "      <td>124.0</td>\n",
       "      <td>148</td>\n",
       "      <td>0</td>\n",
       "      <td>True</td>\n",
       "      <td>False</td>\n",
       "      <td>False</td>\n",
       "      <td>True</td>\n",
       "    </tr>\n",
       "  </tbody>\n",
       "</table>\n",
       "</div>"
      ],
      "text/plain": [
       "         id  Age  Driving_License  Region_Code  Previously_Insured  \\\n",
       "0  11504798   20                1         47.0                   0   \n",
       "1  11504799   47                1         28.0                   0   \n",
       "2  11504800   47                1         43.0                   0   \n",
       "3  11504801   22                1         47.0                   1   \n",
       "4  11504802   51                1         19.0                   0   \n",
       "\n",
       "   Annual_Premium  Policy_Sales_Channel  Vintage  Vehicle_Damages  \\\n",
       "0          2630.0                 160.0      228                0   \n",
       "1         37483.0                 124.0      123                1   \n",
       "2          2630.0                  26.0      271                1   \n",
       "3         24502.0                 152.0      115                0   \n",
       "4         34115.0                 124.0      148                0   \n",
       "\n",
       "   Vehicle_Age_1-2 Year  Vehicle_Age_< 1 Year  Vehicle_Age_> 2 Years  \\\n",
       "0                 False                  True                  False   \n",
       "1                  True                 False                  False   \n",
       "2                  True                 False                  False   \n",
       "3                 False                  True                  False   \n",
       "4                  True                 False                  False   \n",
       "\n",
       "   Gender_Male  \n",
       "0        False  \n",
       "1         True  \n",
       "2         True  \n",
       "3        False  \n",
       "4         True  "
      ]
     },
     "execution_count": 28,
     "metadata": {},
     "output_type": "execute_result"
    }
   ],
   "source": [
    "df_test.head()"
   ]
  },
  {
   "cell_type": "markdown",
   "id": "5276bbe7",
   "metadata": {
    "papermill": {
     "duration": 0.045448,
     "end_time": "2024-01-06T12:59:31.857686",
     "exception": false,
     "start_time": "2024-01-06T12:59:31.812238",
     "status": "completed"
    },
    "tags": []
   },
   "source": [
    "# **8. Using Smote To Handle Imblanced Data**"
   ]
  },
  {
   "cell_type": "code",
   "execution_count": 29,
   "id": "abaca050",
   "metadata": {
    "execution": {
     "iopub.execute_input": "2024-01-06T12:59:31.953374Z",
     "iopub.status.busy": "2024-01-06T12:59:31.952403Z",
     "iopub.status.idle": "2024-01-06T12:59:33.489840Z",
     "shell.execute_reply": "2024-01-06T12:59:33.488540Z"
    },
    "executionInfo": {
     "elapsed": 2415,
     "status": "ok",
     "timestamp": 1703242692470,
     "user": {
      "displayName": "Rohit Kumar Shaw",
      "userId": "08344271847417693490"
     },
     "user_tz": -330
    },
    "id": "hjcF_8PzAGWk",
    "outputId": "e57ff0e2-b6b0-4d7e-d7db-27e107a9c598",
    "papermill": {
     "duration": 1.588737,
     "end_time": "2024-01-06T12:59:33.492115",
     "exception": false,
     "start_time": "2024-01-06T12:59:31.903378",
     "status": "completed"
    },
    "tags": []
   },
   "outputs": [
    {
     "name": "stdout",
     "output_type": "stream",
     "text": [
      "Response\n",
      "0    10089739\n",
      "1     1415059\n",
      "Name: count, dtype: int64\n",
      "\n",
      "Response\n",
      "0    10089739\n",
      "1    10089739\n",
      "Name: count, dtype: int64\n"
     ]
    }
   ],
   "source": [
    "import imblearn\n",
    "from imblearn.over_sampling import SMOTE\n",
    "smote = SMOTE()\n",
    "X_train_smote, y_train_smote = smote.fit_resample(X_train, y_train)\n",
    "print(y_train.value_counts())\n",
    "print()\n",
    "print(y_train_smote.value_counts())"
   ]
  },
  {
   "cell_type": "markdown",
   "id": "e8546dce",
   "metadata": {
    "papermill": {
     "duration": 0.048847,
     "end_time": "2024-01-06T12:59:33.587072",
     "exception": false,
     "start_time": "2024-01-06T12:59:33.538225",
     "status": "completed"
    },
    "tags": []
   },
   "source": [
    "# **9. Scaling Data**"
   ]
  },
  {
   "cell_type": "code",
   "execution_count": 30,
   "id": "360f78cd",
   "metadata": {
    "execution": {
     "iopub.execute_input": "2024-01-06T12:59:33.682572Z",
     "iopub.status.busy": "2024-01-06T12:59:33.681992Z",
     "iopub.status.idle": "2024-01-06T12:59:33.686193Z",
     "shell.execute_reply": "2024-01-06T12:59:33.685436Z"
    },
    "executionInfo": {
     "elapsed": 503,
     "status": "ok",
     "timestamp": 1703242695497,
     "user": {
      "displayName": "Rohit Kumar Shaw",
      "userId": "08344271847417693490"
     },
     "user_tz": -330
    },
    "id": "SQMmaM8fK8C2",
    "papermill": {
     "duration": 0.0546,
     "end_time": "2024-01-06T12:59:33.688009",
     "exception": false,
     "start_time": "2024-01-06T12:59:33.633409",
     "status": "completed"
    },
    "tags": []
   },
   "outputs": [],
   "source": [
    "from sklearn.preprocessing import StandardScaler, MinMaxScaler\n",
    "scaler = StandardScaler()"
   ]
  },
  {
   "cell_type": "code",
   "execution_count": 31,
   "id": "fb5d37eb",
   "metadata": {
    "execution": {
     "iopub.execute_input": "2024-01-06T12:59:33.782843Z",
     "iopub.status.busy": "2024-01-06T12:59:33.781708Z",
     "iopub.status.idle": "2024-01-06T12:59:34.596297Z",
     "shell.execute_reply": "2024-01-06T12:59:34.594862Z"
    },
    "executionInfo": {
     "elapsed": 1128,
     "status": "ok",
     "timestamp": 1703242748603,
     "user": {
      "displayName": "Rohit Kumar Shaw",
      "userId": "08344271847417693490"
     },
     "user_tz": -330
    },
    "id": "VJXaZTpUK_IJ",
    "papermill": {
     "duration": 0.865015,
     "end_time": "2024-01-06T12:59:34.599001",
     "exception": false,
     "start_time": "2024-01-06T12:59:33.733986",
     "status": "completed"
    },
    "tags": []
   },
   "outputs": [],
   "source": [
    "X_train_scaled = scaler.fit_transform(X_train_smote)\n",
    "data_scaled = scaler.fit_transform(df)"
   ]
  },
  {
   "cell_type": "markdown",
   "id": "8149242b",
   "metadata": {
    "papermill": {
     "duration": 0.045849,
     "end_time": "2024-01-06T12:59:34.691151",
     "exception": false,
     "start_time": "2024-01-06T12:59:34.645302",
     "status": "completed"
    },
    "tags": []
   },
   "source": [
    "# **10. Applying ML model**"
   ]
  },
  {
   "cell_type": "code",
   "execution_count": 32,
   "id": "94b8bdb1",
   "metadata": {
    "execution": {
     "iopub.execute_input": "2024-01-06T12:59:34.790946Z",
     "iopub.status.busy": "2024-01-06T12:59:34.789663Z",
     "iopub.status.idle": "2024-01-06T12:59:34.994451Z",
     "shell.execute_reply": "2024-01-06T12:59:34.993306Z"
    },
    "executionInfo": {
     "elapsed": 543,
     "status": "ok",
     "timestamp": 1703242791564,
     "user": {
      "displayName": "Rohit Kumar Shaw",
      "userId": "08344271847417693490"
     },
     "user_tz": -330
    },
    "id": "Gr8O5aKXBAuU",
    "papermill": {
     "duration": 0.258745,
     "end_time": "2024-01-06T12:59:34.997203",
     "exception": false,
     "start_time": "2024-01-06T12:59:34.738458",
     "status": "completed"
    },
    "tags": []
   },
   "outputs": [],
   "source": [
    "from sklearn.model_selection import train_test_split\n",
    "x_train, x_test, y_train, y_test = train_test_split(X_train_scaled, y_train_smote, test_size=0.3, random_state=42)"
   ]
  },
  {
   "cell_type": "code",
   "execution_count": 33,
   "id": "281f65ec",
   "metadata": {
    "execution": {
     "iopub.execute_input": "2024-01-06T12:59:35.092386Z",
     "iopub.status.busy": "2024-01-06T12:59:35.091968Z",
     "iopub.status.idle": "2024-01-06T12:59:35.097760Z",
     "shell.execute_reply": "2024-01-06T12:59:35.096617Z"
    },
    "executionInfo": {
     "elapsed": 8,
     "status": "ok",
     "timestamp": 1703242794431,
     "user": {
      "displayName": "Rohit Kumar Shaw",
      "userId": "08344271847417693490"
     },
     "user_tz": -330
    },
    "id": "-W-4hWYJDEgG",
    "outputId": "53860489-07ce-40ac-c2e9-9ca4cfa6a485",
    "papermill": {
     "duration": 0.057171,
     "end_time": "2024-01-06T12:59:35.100197",
     "exception": false,
     "start_time": "2024-01-06T12:59:35.043026",
     "status": "completed"
    },
    "tags": []
   },
   "outputs": [
    {
     "name": "stdout",
     "output_type": "stream",
     "text": [
      "(14125634, 12) (14125634,) (6053844, 12) (6053844,)\n"
     ]
    }
   ],
   "source": [
    "print(x_train.shape, y_train.shape, x_test.shape, y_test.shape)"
   ]
  },
  {
   "cell_type": "code",
   "execution_count": 34,
   "id": "22c1424a",
   "metadata": {
    "execution": {
     "iopub.execute_input": "2024-01-06T12:59:35.195728Z",
     "iopub.status.busy": "2024-01-06T12:59:35.194524Z",
     "iopub.status.idle": "2024-01-06T12:59:35.200399Z",
     "shell.execute_reply": "2024-01-06T12:59:35.199462Z"
    },
    "executionInfo": {
     "elapsed": 488,
     "status": "ok",
     "timestamp": 1703243378736,
     "user": {
      "displayName": "Rohit Kumar Shaw",
      "userId": "08344271847417693490"
     },
     "user_tz": -330
    },
    "id": "avehlcZVNCCf",
    "papermill": {
     "duration": 0.056176,
     "end_time": "2024-01-06T12:59:35.202521",
     "exception": false,
     "start_time": "2024-01-06T12:59:35.146345",
     "status": "completed"
    },
    "tags": []
   },
   "outputs": [],
   "source": [
    "from sklearn import metrics\n",
    "from sklearn.metrics import *\n",
    "from sklearn.metrics import accuracy_score\n",
    "from sklearn.metrics import precision_score\n",
    "from sklearn.metrics import recall_score\n",
    "from sklearn.metrics import f1_score\n",
    "from sklearn.metrics import confusion_matrix\n",
    "from sklearn.metrics import classification_report\n",
    "from sklearn.linear_model import LogisticRegression"
   ]
  },
  {
   "cell_type": "code",
   "execution_count": 35,
   "id": "af63f4ad",
   "metadata": {
    "execution": {
     "iopub.execute_input": "2024-01-06T12:59:35.297639Z",
     "iopub.status.busy": "2024-01-06T12:59:35.297264Z",
     "iopub.status.idle": "2024-01-06T12:59:35.305071Z",
     "shell.execute_reply": "2024-01-06T12:59:35.303945Z"
    },
    "executionInfo": {
     "elapsed": 2,
     "status": "ok",
     "timestamp": 1703243287289,
     "user": {
      "displayName": "Rohit Kumar Shaw",
      "userId": "08344271847417693490"
     },
     "user_tz": -330
    },
    "id": "DpnOoyBcEmTN",
    "papermill": {
     "duration": 0.059081,
     "end_time": "2024-01-06T12:59:35.307527",
     "exception": false,
     "start_time": "2024-01-06T12:59:35.248446",
     "status": "completed"
    },
    "tags": []
   },
   "outputs": [],
   "source": [
    "def model_prediction(model):\n",
    "    model.fit(x_train,y_train)\n",
    "    x_train_pred = model.predict(x_train)\n",
    "    x_test_pred = model.predict(x_test)\n",
    "    y_test_prob = model.predict_proba(x_test)[:, 1]\n",
    "\n",
    "    a = accuracy_score(y_train,x_train_pred)*100\n",
    "    b = accuracy_score(y_test,x_test_pred)*100\n",
    "    c = precision_score(y_test,x_test_pred)\n",
    "    d = recall_score(y_test,x_test_pred)\n",
    "    e = roc_auc_score(y_test, y_test_prob)\n",
    "    print(f\"Accuracy_Score of {model} model on Training Data is:\",a)\n",
    "    print(f\"Accuracy_Score of {model} model on Testing Data is:\",b)\n",
    "    print(f\"Precision Score of {model} model is:\",c)\n",
    "    print(f\"Recall Score of {model} model is:\",d)\n",
    "    print(f\"AUC Score of {model} model is:\", e)\n",
    "    print(\"\\n------------------------------------------------------------------------\")\n",
    "    print(f\"Confusion Matrix of {model} model is:\")\n",
    "    cm = confusion_matrix(y_test,x_test_pred)\n",
    "    plt.figure(figsize=(8,4))\n",
    "    sns.heatmap(cm,annot=True,fmt=\"g\",cmap=\"Greens\")\n",
    "    plt.show()"
   ]
  },
  {
   "cell_type": "code",
   "execution_count": 36,
   "id": "55f78a59",
   "metadata": {
    "execution": {
     "iopub.execute_input": "2024-01-06T12:59:35.402522Z",
     "iopub.status.busy": "2024-01-06T12:59:35.402083Z",
     "iopub.status.idle": "2024-01-06T12:59:37.574452Z",
     "shell.execute_reply": "2024-01-06T12:59:37.573315Z"
    },
    "executionInfo": {
     "elapsed": 3635,
     "status": "ok",
     "timestamp": 1703243293356,
     "user": {
      "displayName": "Rohit Kumar Shaw",
      "userId": "08344271847417693490"
     },
     "user_tz": -330
    },
    "id": "KLDbURhPEJDo",
    "outputId": "01d1b1c4-b8e9-4d73-dc22-150228fdd85f",
    "papermill": {
     "duration": 2.22239,
     "end_time": "2024-01-06T12:59:37.576681",
     "exception": false,
     "start_time": "2024-01-06T12:59:35.354291",
     "status": "completed"
    },
    "tags": []
   },
   "outputs": [
    {
     "name": "stdout",
     "output_type": "stream",
     "text": [
      "Accuracy_Score of LogisticRegression() model on Training Data is: 81.15033987147055\n",
      "Accuracy_Score of LogisticRegression() model on Testing Data is: 81.14226266814936\n",
      "Precision Score of LogisticRegression() model is: 0.757463866977808\n",
      "Recall Score of LogisticRegression() model is: 0.9161364633611233\n",
      "AUC Score of LogisticRegression() model is: 0.8935140068429683\n",
      "\n",
      "------------------------------------------------------------------------\n",
      "Confusion Matrix of LogisticRegression() model is:\n"
     ]
    },
    {
     "data": {
      "image/png": "[encoded data removed]",
      "text/plain": [
       "<Figure size 800x400 with 2 Axes>"
      ]
     },
     "metadata": {},
     "output_type": "display_data"
    }
   ],
   "source": [
    "model_prediction(LogisticRegression())"
   ]
  },
  {
   "cell_type": "markdown",
   "id": "d7a72d11",
   "metadata": {
    "papermill": {
     "duration": 0.045391,
     "end_time": "2024-01-06T12:59:37.669065",
     "exception": false,
     "start_time": "2024-01-06T12:59:37.623674",
     "status": "completed"
    },
    "tags": []
   },
   "source": [
    "# **-----------------End Of Project----------------------**"
   ]
  }
 ],
 "metadata": {
  "colab": {
   "authorship_tag": "ABX9TyN3XwCOtlt87w12nqBSyU+w",
   "provenance": []
  },
  "kaggle": {
   "accelerator": "none",
   "dataSources": [
    {
     "datasetId": 4268036,
     "sourceId": 7349720,
     "sourceType": "datasetVersion"
    }
   ],
   "dockerImageVersionId": 30626,
   "isGpuEnabled": false,
   "isInternetEnabled": true,
   "language": "python",
   "sourceType": "notebook"
  },
  "kernelspec": {
   "display_name": "Python 3",
   "language": "python",
   "name": "python3"
  },
  "language_info": {
   "codemirror_mode": {
    "name": "ipython",
    "version": 3
   },
   "file_extension": ".py",
   "mimetype": "text/x-python",
   "name": "python",
   "nbconvert_exporter": "python",
   "pygments_lexer": "ipython3",
   "version": "3.11.4"
  },
  "papermill": {
   "default_parameters": {},
   "duration": 151.923256,
   "end_time": "2024-01-06T12:59:38.838120",
   "environment_variables": {},
   "exception": null,
   "input_path": "__notebook__.ipynb",
   "output_path": "__notebook__.ipynb",
   "parameters": {},
   "start_time": "2024-01-06T12:57:06.914864",
   "version": "2.4.0"
  }
 },
 "nbformat": 4,
 "nbformat_minor": 5
}
